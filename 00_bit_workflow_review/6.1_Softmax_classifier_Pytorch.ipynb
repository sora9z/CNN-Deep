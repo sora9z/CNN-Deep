{
 "metadata": {
  "language_info": {
   "codemirror_mode": {
    "name": "ipython",
    "version": 3
   },
   "file_extension": ".py",
   "mimetype": "text/x-python",
   "name": "python",
   "nbconvert_exporter": "python",
   "pygments_lexer": "ipython3",
   "version": "3.6.10-final"
  },
  "orig_nbformat": 2,
  "kernelspec": {
   "name": "Python 3.6.10 64-bit ('TF2': conda)",
   "display_name": "Python 3.6.10 64-bit ('TF2': conda)",
   "metadata": {
    "interpreter": {
     "hash": "82029324b7794d44b9b34a5b0c3b4b27ccbecf11ca42c54b00821b74d204b68a"
    }
   }
  }
 },
 "nbformat": 4,
 "nbformat_minor": 2,
 "cells": [
  {
   "source": [
    "# Lab 6 Softmax Classifier\n",
    "import torch\n",
    "from torch.autograd import Variable\n",
    "\n",
    "torch.manual_seed(000)\n",
    "\n",
    "x_data=[[1,2,1,1],[2,1,3,2],[3,1,3,4],[4,1,5,5],\n",
    "[1,7,5,5],[1,2,5,6],[1,6,6,6],[1,7,7,7]]\n",
    "y_data=[[0,0,1],[0,0,1],[0,0,1],[0,1,0],[0,1,0],[0,1,0],[1,0,0],[1,0,0]]\n",
    "\n",
    "X=Variable(torch.Tensor(x_data))\n",
    "Y=Variable(torch.Tensor(y_data))\n",
    "nb_classes=3\n",
    "\n",
    "# tf.nn.softmax computes softmax activations\n",
    "# softmax=exp(logits)/reduce_sum(exp(logits),dim)\n",
    "\n",
    "softmax=torch.nn.Softmax()\n",
    "linear=torch.nn.Linear(4,nb_classes,bias=True) # tf.model.add(tf.keras.layers.Dense(input_dim=4,units=nb_classes,use_bias=True))\n",
    "model=torch.nn.Sequential(linear,softmax)\n",
    "\n",
    "optimizer=torch.optim.SGD(model.parameters(),lr=0.01)\n",
    "\n",
    "for step in range(2001):\n",
    "    optimizer.zero_grad() #w,b 초기화\n",
    "    hypothesis=model(X)\n",
    "    # cross entropy cost\n",
    "    cost=-Y*torch.log(hypothesis)\n",
    "    cost=torch.sum(cost,1).mean()\n",
    "    optimizer.step()\n",
    "\n",
    "    if step%200==0:\n",
    "        print(step,cost.data.numpy())\n",
    "    \n",
    "# Testing & One-hot encoding\n",
    "print('----------------')\n",
    "a=model(Variable(torch.Tensor([[1,11,7,9]])))\n",
    "print(a.data.numpy(),torch.max(a,1)[1].data.numpy())\n",
    "\n",
    "print('----------------')\n",
    "b=model(Variable(torch.Tensor([[1,3,4,2]])))\n",
    "print(b.data.numpy(),torch.max(b,1)[1].data.numpy())\n",
    "\n",
    "print('----------------')\n",
    "c=model(Variable(torch.Tensor([[1,1,0,1]])))\n",
    "print(c.data.numpy(),torch.max(c,1)[1].data.numpy())\n",
    "\n",
    "print('----------------')\n",
    "all=model(Variable(torch.Tensor([[1,11,7,9],[1,3,4,2],[1,1,0,1]])))\n",
    "print(all.data.numpy(),torch.max(all,1)[1].data.numpy())\n",
    "print(all.data.numpy(),torch.max(all,1))"
   ],
   "cell_type": "code",
   "metadata": {},
   "execution_count": 14,
   "outputs": [
    {
     "output_type": "stream",
     "name": "stdout",
     "text": [
      "0 2.2566257\n",
      "200 2.2566257\n",
      "400 2.2566257\n",
      "600 2.2566257\n",
      "800 2.2566257\n",
      "1000 2.2566257\n",
      "1200 2.2566257\n",
      "1400 2.2566257\n",
      "1600 2.2566257\n",
      "1800 2.2566257\n",
      "2000 2.2566257\n",
      "----------------\n",
      "[[2.8047728e-04 9.9416453e-01 5.5549787e-03]] [1]\n",
      "----------------\n",
      "[[0.05047361 0.7439792  0.20554726]] [1]\n",
      "----------------\n",
      "[[0.23582566 0.42456424 0.3396101 ]] [1]\n",
      "----------------\n",
      "[[2.8047728e-04 9.9416453e-01 5.5549787e-03]\n",
      " [5.0473597e-02 7.4397922e-01 2.0554723e-01]\n",
      " [2.3582566e-01 4.2456424e-01 3.3961010e-01]] [1 1 1]\n",
      "[[2.8047728e-04 9.9416453e-01 5.5549787e-03]\n",
      " [5.0473597e-02 7.4397922e-01 2.0554723e-01]\n",
      " [2.3582566e-01 4.2456424e-01 3.3961010e-01]] torch.return_types.max(\n",
      "values=tensor([0.9942, 0.7440, 0.4246], grad_fn=<MaxBackward0>),\n",
      "indices=tensor([1, 1, 1]))\n"
     ]
    }
   ]
  },
  {
   "cell_type": "code",
   "execution_count": null,
   "metadata": {},
   "outputs": [],
   "source": []
  }
 ]
}