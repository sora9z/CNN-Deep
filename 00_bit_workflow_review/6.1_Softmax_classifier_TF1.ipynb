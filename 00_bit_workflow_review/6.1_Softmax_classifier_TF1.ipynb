{
 "metadata": {
  "language_info": {
   "codemirror_mode": {
    "name": "ipython",
    "version": 3
   },
   "file_extension": ".py",
   "mimetype": "text/x-python",
   "name": "python",
   "nbconvert_exporter": "python",
   "pygments_lexer": "ipython3",
   "version": "3.6.10-final"
  },
  "orig_nbformat": 2,
  "kernelspec": {
   "name": "Python 3.6.10 64-bit ('TF1': conda)",
   "display_name": "Python 3.6.10 64-bit ('TF1': conda)",
   "metadata": {
    "interpreter": {
     "hash": "4ab7294591ae2e24d7ad62db44588332ea350663983d8da844e31f6ce2630762"
    }
   }
  }
 },
 "nbformat": 4,
 "nbformat_minor": 2,
 "cells": [
  {
   "source": [
    "# 6.1 Softmax classifier </br>\n",
    "\n",
    "(1) 실습 목적 \n",
    "\n",
    "- 간단한 softmax 구현 함수를 익힌다.</br>\n",
    "\n",
    "(2) 사용한 API 및 간단한 설명\n",
    "\n",
    "- hypothesis=tf.nn.softmax(tf.matmul(X,W)+b)\n",
    "    - hypothesis 에서 tf.matmul(X,W)+b에 tf.nn.softmax 함수 적용\n",
    "- cost = tf.reduce_mean(-tf.reduce_sum(Y*tf.log(hypothesis),axis=1))\n",
    "    - Cross entropy를 코스트 함수로 사용한다.\n",
    "- optimizer = tf.train.GradientDescentOptimizer(learning_rate=0.1).minimize(cost)\n",
    "    - learning_rate = 0.l로 학습을 진행함.</br>\n",
    "    \n",
    "## Hypothesis 행렬 식\n",
    "\n",
    "## $\\begin{bmatrix} 0 \\ \\  0 \\ \\  1 \\\\ 0 \\ \\ 0 \\ \\  1 \\\\ 0 \\ \\  0 \\ \\ 1 \\\\ 0 \\ \\ 1 \\ \\ 0 \\\\ 0 \\ \\  1 \\ \\  0 \\\\ 0 \\ \\ 1 \\ \\  1 \\\\ 1 \\ \\  0 \\ \\ 0 \\\\ 1 \\ \\ 0 \\ \\ 0 \\\\ \\end{bmatrix}_{Y(8*3)}$ = softmax($\\begin{bmatrix} 1 \\ \\ 2 \\ \\ 1 \\ \\ 1 \\\\ 2 \\ \\ 1 \\ \\ 3 \\ \\ 2 \\\\ 3 \\ \\ 1 \\ \\ 3 \\ \\ 4 \\\\ 4 \\ \\ 1 \\ \\ 5 \\ \\ 5 \\\\ 1 \\ \\ 7 \\ \\ 5 \\ \\ 5 \\\\ 1 \\ \\ 2 \\ \\ 5 \\ \\ 6 \\\\ 1 \\ \\ 6 \\ \\ 6 \\ \\ 6 \\\\ 1 \\ \\ 7 \\ \\ 7 \\ \\ 7 \\\\ \\end{bmatrix}_{X(8*4)}$ x $\\begin{bmatrix} 0 \\ \\  0 \\ \\  1 \\\\ 0 \\ \\ 0 \\ \\  1 \\\\ 0 \\ \\  0 \\ \\ 1 \\\\ 0 \\ \\ 1 \\ \\ 0 \\\\ \\end{bmatrix}_{Weight(4*3)}$ $+$ $\\begin{bmatrix} 1 \\ \\ 2 \\ \\ 3 \\ \\end{bmatrix}_{Bias(1*3)}$)\n"
   ],
   "cell_type": "markdown",
   "metadata": {}
  },
  {
   "cell_type": "code",
   "execution_count": 8,
   "metadata": {},
   "outputs": [
    {
     "output_type": "stream",
     "name": "stdout",
     "text": [
      "0 2.0874891\n",
      "200 0.7741214\n",
      "400 0.6366739\n",
      "600 0.5488541\n",
      "800 0.4769693\n",
      "1000 0.40989822\n",
      "1200 0.37069127\n",
      "1400 0.35279408\n",
      "1600 0.3379337\n",
      "1800 0.32537127\n",
      "2000 0.31459957\n",
      "-------------------------\n",
      "[[4.4100652e-03 9.9558002e-01 9.8883074e-06]] [1]\n",
      "-------------------------\n",
      "[[0.61517763 0.08948574 0.29533666]] [0]\n",
      "-------------------------\n",
      "[[8.6745352e-08 3.7492781e-03 9.9625069e-01]] [2]\n",
      "-------------------------\n",
      "[[4.4100652e-03 9.9558002e-01 9.8883174e-06]\n",
      " [6.1517763e-01 8.9485720e-02 2.9533663e-01]\n",
      " [8.6745352e-08 3.7492781e-03 9.9625069e-01]] [1 0 2]\n"
     ]
    }
   ],
   "source": [
    "# Lab 6-1 Softmax Classifier\n",
    "\n",
    "import tensorflow as tf\n",
    "tf.set_random_seed(000)\n",
    "\n",
    "#1. raw data\n",
    "x_data=[[1,2,1,1],[2,1,3,2],[2,1,3,4],[4,1,5,5],[1,7,5,5],[1,2,5,6],[1,6,6,6],[1,7,7,7]] #8X4\n",
    "y_data=[[0,0,1],[0,0,1],[0,0,1],[0,1,0],[0,1,0],[0,1,1],[1,0,0],[1,0,0]] #8X3\n",
    "\n",
    "# 2. raw data를 넣을 place holder 생성\n",
    "X=tf.placeholder(\"float\",[None,4])\n",
    "Y=tf.placeholder(\"float\",[None,3])\n",
    "nb_classes=3\n",
    "\n",
    "# 3. Weight , Bias를 넣을 Variable 생성.\n",
    "W=tf.Variable(tf.random_normal([4,nb_classes]),name='Weight')\n",
    "b=tf.Variable(tf.random_normal([nb_classes]),name='bias')\n",
    "\n",
    "# tf.nn.softmax compute softmax activations \n",
    "# softmax=exp(logits)/reduce_sum(exp(logits),dim)\n",
    "\n",
    "hypothesis=tf.nn.softmax(tf.matmul(X,W)+b)\n",
    "\n",
    "# Cross entropy cost function\n",
    "cost=tf.reduce_mean(-tf.reduce_sum(Y*tf.log(hypothesis),axis=1))\n",
    "optimizer=tf.train.GradientDescentOptimizer(learning_rate=0.1).minimize(cost)\n",
    "\n",
    "# Launch the graph\n",
    "with tf.Session() as sess:\n",
    "    \n",
    "    sess.run(tf.global_variables_initializer())\n",
    "    for step in range(2001):\n",
    "        # 1. 훈령\n",
    "        sess.run(optimizer,feed_dict={X:x_data,Y:y_data})\n",
    "        if step%200==0:\n",
    "            print(step,sess.run(cost,feed_dict={X:x_data,Y:y_data}))\n",
    "    \n",
    "    print('-------------------------')\n",
    "\n",
    "    # Testing & One-hot encoding\n",
    "    a=sess.run(hypothesis,feed_dict={X:[[1,11,7,9]]})\n",
    "    print(a,sess.run(tf.argmax(a,1)))\n",
    "\n",
    "\n",
    "    print('-------------------------')\n",
    "\n",
    "    b=sess.run(hypothesis,feed_dict={X:[[1,3,4,3]]})\n",
    "    print(b,sess.run(tf.argmax(b,1)))\n",
    "\n",
    "    print('-------------------------')\n",
    "\n",
    "    c=sess.run(hypothesis,feed_dict={X:[[1,1,0,1]]})\n",
    "    print(c,sess.run(tf.argmax(c,1)))\n",
    "    \n",
    "    print('-------------------------')\n",
    "\n",
    "    all=sess.run(hypothesis,feed_dict={X:[[1,11,7,9],[1,3,4,3],[1,1,0,1]]})\n",
    "    print(all,sess.run(tf.argmax(all,1)))\n",
    "\n",
    "\n"
   ]
  },
  {
   "cell_type": "code",
   "execution_count": null,
   "metadata": {},
   "outputs": [],
   "source": []
  }
 ]
}