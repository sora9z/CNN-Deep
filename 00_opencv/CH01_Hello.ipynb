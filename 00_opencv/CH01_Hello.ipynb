{
 "metadata": {
  "language_info": {
   "codemirror_mode": {
    "name": "ipython",
    "version": 3
   },
   "file_extension": ".py",
   "mimetype": "text/x-python",
   "name": "python",
   "nbconvert_exporter": "python",
   "pygments_lexer": "ipython3",
   "version": "3.6.10-final"
  },
  "orig_nbformat": 2,
  "kernelspec": {
   "name": "python_defaultSpec_1599218882916",
   "display_name": "Python 3.6.10 64-bit ('TF2': conda)"
  }
 },
 "nbformat": 4,
 "nbformat_minor": 2,
 "cells": [
  {
   "cell_type": "code",
   "execution_count": 11,
   "metadata": {
    "tags": []
   },
   "outputs": [
    {
     "output_type": "stream",
     "name": "stdout",
     "text": "Hello OpenCV 3.3.1\ndone\n"
    }
   ],
   "source": [
    "import sys\n",
    "import cv2\n",
    "\n",
    "print('Hello OpenCV',cv2.__version__)\n",
    "\n",
    "img=cv2.imread('cat.bmp') #imread('파일의 이름') 현재 작업 경로에 있는 이미지 파일을 불러옴\n",
    "\n",
    "## 예외처리는 꼭 하자!\n",
    "if img is None:\n",
    "    print('image load failed')\n",
    "    sys.exit\n",
    "cv2.namedWindow('image') #opencv 에서 제공하는 창을 생성. image라는 이름을 갖는 창을 하나 생성\n",
    "cv2.imshow('image',img) #imshow('어떤 창에다 보여줄 것인지','어떤 영상을 보여줄 것인지')\n",
    "cv2.waitKey() #Keyboard입력을 기다리면서 영상이 화면세 실제로 보여지게끔 한다.\n",
    "\n",
    "cv2.destroyAllWindows() #화면에 나타나 있는 모든 창을 닫아라.\n",
    "print('done')\n",
    "\n"
   ]
  },
  {
   "cell_type": "code",
   "execution_count": 11,
   "metadata": {
    "tags": []
   },
   "outputs": [
    {
     "output_type": "stream",
     "name": "stdout",
     "text": "3.3.1\n"
    }
   ],
   "source": [
    "## 복습하기 , image 2개 불러오기\n",
    "\n",
    "import sys\n",
    "import cv2\n",
    "\n",
    "print(cv2.__version__)\n",
    "\n",
    "img=[cv2.imread('cat.bmp'),cv2.imread('flying car.jpg')]\n",
    "\n",
    "if img is None: #예외 처리\n",
    "    print('Image load failed')\n",
    "    sys.exit\n",
    "\n",
    "cv2.namedWindow('image') # opencv에서 제공하는 창을 생성. image라는 이름을 갖는 창을 하나 생성.\n",
    "cv2.namedWindow('image2')\n",
    "cv2.imshow('image',img[0]) #imshwo('이미지를 보여줄 창','영상')\n",
    "cv2.imshow('image2',img[1])\n",
    "cv2.waitKey() # keyboard입력을 기다리면서 영상이 화면에 실제로 보여지게끔 한다.and\n",
    "cv2.destroyAllWindows() #화면에 나타나있는 모든 창을 닫는다.\n",
    "\n",
    "\n"
   ]
  },
  {
   "cell_type": "markdown",
   "metadata": {},
   "source": [
    "## OpenCV 주요 함수 설명\n",
    "https://docs.opencv.org/master/\n",
    "\n",
    "## OpenCV API\n",
    "\n",
    "- 영상 파일 불러오기\n",
    "\n",
    "[1] cv2.imread(filename,flags=None) -> retval **flags는 default로 IMEAD_COLOR 임.\n",
    "\n",
    "1. filename: 불러올 영상 파일 이름(문자열)  다른 폴더에 있는 경우 file path를 지정\n",
    "2. flags: 영상파일 불러오기 옵션 플래그\n",
    "    - cv2.IMREAD_COLOR : RGB컬러 영상으로 읽기(default) shape=(row,colors,3)\n",
    "    - cv2.IMREAD_GRAYSCALE :그레이스케일 영상으로 읽기 shape=(rows,colors)\n",
    "    - cv2.IMREAD_UNCHANGED : 영상 파일 속성 그대로 읽기 (EX.투명한 PNG파일 또는 TIFF파일 : shape = (row,colors,4))\n",
    "3. retval : 불러온영상 데이터(numpy.ndarray) : 이 형태로 리턴을 해줌\n",
    "\n",
    "[2] cv2.imwrite(filename,img,params=None) -> retval\n",
    "\n",
    "1. filename: 저장할 영상 파일 이름(문자열)\n",
    "2. img: 저장할 영상 데이터(numpy.ndarray 타입의 변수 이름)\n",
    "3. params : 파일 저장 옵션 지정(속성&갑의 정수 쌍)\n",
    "    (ex) [cv2.IMWRITE_JPEG_QUALITY,90] : JPG 파일 압축률을 90%로 지정.\n",
    "    정상적으로 저장하면 True, 실패하면 False\n",
    "\n",
    "[3] cv2.namedWindow(winname,flags=None) -> None\n",
    "\n",
    "1. winname : 창 고유 이름(문자열)\n",
    "2. flags : 창 속성 지정 플래그\n",
    "    - cv2.WIMDOW_NORMAL : 영상 크기를 창 크기에 맞게 지정 : 창 크기에 맞게 영상을 RESIZE 해서 보여준다. 마우스 드래그로 조절 가능. 영상이 너무 클때만 사용하면 좋음.\n",
    "    - CV2.WINDOW_AUTOSIZE : 창크기를 영상 크기에 맞게 변경(기본값)\n",
    "\n",
    "[4] \n",
    "(1) cv2.destroyWindow(winname) -> None\n",
    "(2) cv2.destroytAllWindows() -> None\n",
    "- winname : 닫고자 하는 창 이름.\n",
    "- 참고사항 : \n",
    "    (1) cv2.destroyWindow() 함수는 지정한 창 하나만 닫고, cv2.destroyAllWindows()함수는 열려있는 모든 창을 닫음.\n",
    "    \n",
    "    (2) 일반적인 경우 프로그램 종료 시 운영체제에 의해 열려 있는 모든 창이 자동으로 닫힘. 그러므로 사용할 때 특정 함수가 끝나면 창을 닫고싶은 경우 마지막에 넣어주는 식으로 사용.\n",
    "\n",
    "[5] cv2.resizeWindow(winname,width,height)->None\n",
    "- windname : 창 이름\n",
    "- width : 변경할 창의 가로 크\n",
    "- height : 변경할 창의 세로 크기\n",
    "- 참고사항 : \n",
    "    - 창 생성 시 cv2.WINDOW_NORMAL 속성으로 생성되어야 동작\n",
    "    - 영상 출력 부분의 크기만을 고려함(제목 표시줄,창 경계는 고려되지 않음)\n",
    "    \n",
    "[6] cv2.imshow(winname,mat) -> None\n",
    "- winname : 영상을 출력할 대상 창 이름\n",
    "- mat : 출력할 영상 데잍터 (numpy.ndarray)\n",
    "- 참고사항 :\n",
    "    imshow에 들어가는 img라는 ndarray는 uint8 이라고 하는 element가 1byte인 행렬을 입력으로 줘야함. \n",
    "    - unit16,int32, 자료형 행렬의 경우, 행렬 원소 값을 255로 나눠서 출력 (정수값)\n",
    "    - float32, floar54 자효형 행렬의 경우 원소값에 225를 곱해서 출력 (실수값)\n",
    "    - 만약 winname에 해당하는 창이 없으면 창을 새로 만들어서 영상을 출력함.\n",
    "    - Windows 운영체제에서는 Ctrl+C(복사) , Ctrl+S(저장) 지원.\n",
    "    - 실제로는 cv2.waitKey() 함수를 호출해야 화면에 여상이 나타남.\n",
    "    ---> ndarray의 astype을 사용해서 uint8로 변환을 해서 입력을 주는것을 선호.\n",
    "\n",
    "[7] cv2.waitKey(delay=None) -> retval\n",
    "- delay : 밀리초 단위 대기 시간. delay<=0이면 무한히 기다림. default vlue임.\n",
    "- retval :눌린 키 값(Ascll code). 키가 눌러지지 않으면 -1을 return함.\n",
    "- 참고사항 : \n",
    "    - cv2.waitkey() 함수는 openCV창이 하나라도 있을 때 동작함.\n",
    "    - 특정 키 입력을 확인하려면 ord()함수를 이용.\n",
    "     while True:\n",
    "        if cv2.waitkey()==ord('q'):\n",
    "            break\n",
    "    - 주요 특수키 코드:27(esc),13(enter),9(TAB)\n",
    "    \n",
    "    \n"
   ]
  },
  {
   "cell_type": "code",
   "execution_count": 4,
   "metadata": {
    "tags": []
   },
   "outputs": [
    {
     "output_type": "stream",
     "name": "stdout",
     "text": "-1\n"
    }
   ],
   "source": [
    "## cv2.imwrite 사용\n",
    "\n",
    "import cv2\n",
    "import sys\n",
    "\n",
    "img=cv2.imread('cat.bmp',cv2.IMREAD_GRAYSCALE)\n",
    "\n",
    "if img is None:\n",
    "    print('image load failed')\n",
    "    sys.exit\n",
    "\n",
    "cv2.imwrite('cat_gray.png',img) #gray scale로 불러온 img영상을 저장\n",
    "\n",
    "cv2.namedWindow('image',cv2.WINDOW_NORMAL)\n",
    "cv2.imshow('image',img)\n",
    "key=cv2.waitKey(2000) #-1을 return 해줌\n",
    "print(key)\n",
    "cv2.destroyAllWindows()\n",
    "\n",
    "\n",
    "\n"
   ]
  },
  {
   "cell_type": "code",
   "execution_count": 4,
   "metadata": {
    "tags": []
   },
   "outputs": [
    {
     "output_type": "stream",
     "name": "stderr",
     "text": "ERROR:root:No traceback has been produced, nothing to debug.\n"
    }
   ],
   "source": [
    "%debug"
   ]
  },
  {
   "cell_type": "code",
   "execution_count": 6,
   "metadata": {},
   "outputs": [],
   "source": [
    "import sys\n",
    "import cv2\n",
    "\n",
    "img=cv2.imread('cat.bmp')\n",
    "\n",
    "if img is None:\n",
    "    print('image load failed')\n",
    "    sys.exit\n",
    "\n",
    "cv2.namedWindow('image',cv2.WINDOW_NORMAL)\n",
    "cv2.imshow('image',img)\n",
    "while True:\n",
    "    if cv2.waitKey()==27: # esc 키를 눌러야만 종료가 됨. 특정 문자는 ord('q') 를 사용 ord : 아스키 코드 값을 리턴해줌.\n",
    "        break\n",
    "cv2.destroyAllWindows()"
   ]
  }
 ]
}