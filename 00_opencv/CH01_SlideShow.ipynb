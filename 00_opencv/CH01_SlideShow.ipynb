{
 "metadata": {
  "language_info": {
   "codemirror_mode": {
    "name": "ipython",
    "version": 3
   },
   "file_extension": ".py",
   "mimetype": "text/x-python",
   "name": "python",
   "nbconvert_exporter": "python",
   "pygments_lexer": "ipython3",
   "version": "3.6.10-final"
  },
  "orig_nbformat": 2,
  "kernelspec": {
   "name": "python_defaultSpec_1599483350411",
   "display_name": "Python 3.6.10 64-bit ('TF2': conda)"
  }
 },
 "nbformat": 4,
 "nbformat_minor": 2,
 "cells": [
  {
   "cell_type": "markdown",
   "metadata": {},
   "source": [
    "## [실전코딩] 이미지 슬라이드쇼\n",
    "- 이미지 슬라이드쇼 \n",
    "    - 특정 폴더에 있는 모든 이미지 파일을 이용하여 슬라이드쇼를 수행\n",
    "\n",
    "- 구현 할 기능 \n",
    "    - 특정 폴더에 있는 이미지 파일 목록 읽기\n",
    "    - 이미지를 전체 화면으로 출력하기\n",
    "    - 일정 시간동안 이미지를 화면에 출력하고, 다음 이미지로 교체하기(무한루프)\n",
    "\n",
    "    "
   ]
  },
  {
   "cell_type": "markdown",
   "metadata": {},
   "source": [
    "[1] 특정 폴더에 있는 이미지 파일(*.jpg)몰록 읽기\n",
    "    - os.listdir()\n",
    "        - import os\n",
    "          file_list=os.listdir('.//images')\n",
    "          img_files=[file for file in file_list if file.endwith('.jpg')]\n",
    "\n",
    "    - glob.glob() # 특정 pattern의 문자열로 되어있는 것을 불러온다.\n",
    "        - import glob\n",
    "          img_files=glob.glob('.//image//*.jpg')\n"
   ]
  },
  {
   "cell_type": "markdown",
   "metadata": {},
   "source": []
  },
  {
   "cell_type": "code",
   "execution_count": 7,
   "metadata": {
    "tags": [
     "outputPrepend"
    ]
   },
   "outputs": [
    {
     "output_type": "stream",
     "name": "stdout",
     "text": "\n.//images//cats\\cat.4318.jpg\n.//images//cats\\cat.4319.jpg\n.//images//cats\\cat.4320.jpg\n.//images//cats\\cat.4321.jpg\n.//images//cats\\cat.4322.jpg\n.//images//cats\\cat.4323.jpg\n.//images//cats\\cat.4324.jpg\n.//images//cats\\cat.4325.jpg\n.//images//cats\\cat.4326.jpg\n.//images//cats\\cat.4327.jpg\n.//images//cats\\cat.4328.jpg\n.//images//cats\\cat.4329.jpg\n.//images//cats\\cat.4330.jpg\n.//images//cats\\cat.4331.jpg\n.//images//cats\\cat.4332.jpg\n.//images//cats\\cat.4333.jpg\n.//images//cats\\cat.4334.jpg\n.//images//cats\\cat.4335.jpg\n.//images//cats\\cat.4336.jpg\n.//images//cats\\cat.4337.jpg\n.//images//cats\\cat.4338.jpg\n.//images//cats\\cat.4339.jpg\n.//images//cats\\cat.4340.jpg\n.//images//cats\\cat.4341.jpg\n.//images//cats\\cat.4342.jpg\n.//images//cats\\cat.4343.jpg\n.//images//cats\\cat.4344.jpg\n.//images//cats\\cat.4345.jpg\n.//images//cats\\cat.4346.jpg\n.//images//cats\\cat.4347.jpg\n.//images//cats\\cat.4348.jpg\n.//images//cats\\cat.4349.jpg\n.//images//cats\\cat.4350.jpg\n.//images//cats\\cat.4351.jpg\n.//images//cats\\cat.4352.jpg\n.//images//cats\\cat.4353.jpg\n.//images//cats\\cat.4354.jpg\n.//images//cats\\cat.4355.jpg\n.//images//cats\\cat.4356.jpg\n.//images//cats\\cat.4357.jpg\n.//images//cats\\cat.4358.jpg\n.//images//cats\\cat.4359.jpg\n.//images//cats\\cat.4360.jpg\n.//images//cats\\cat.4361.jpg\n.//images//cats\\cat.4362.jpg\n.//images//cats\\cat.4363.jpg\n.//images//cats\\cat.4364.jpg\n.//images//cats\\cat.4365.jpg\n.//images//cats\\cat.4366.jpg\n.//images//cats\\cat.4367.jpg\n.//images//cats\\cat.4368.jpg\n.//images//cats\\cat.4369.jpg\n.//images//cats\\cat.4370.jpg\n.//images//cats\\cat.4371.jpg\n.//images//cats\\cat.4372.jpg\n.//images//cats\\cat.4373.jpg\n.//images//cats\\cat.4374.jpg\n.//images//cats\\cat.4375.jpg\n.//images//cats\\cat.4376.jpg\n.//images//cats\\cat.4377.jpg\n.//images//cats\\cat.4378.jpg\n.//images//cats\\cat.4379.jpg\n.//images//cats\\cat.4380.jpg\n.//images//cats\\cat.4381.jpg\n.//images//cats\\cat.4382.jpg\n.//images//cats\\cat.4383.jpg\n.//images//cats\\cat.4384.jpg\n.//images//cats\\cat.4385.jpg\n.//images//cats\\cat.4386.jpg\n.//images//cats\\cat.4387.jpg\n.//images//cats\\cat.4388.jpg\n.//images//cats\\cat.4389.jpg\n.//images//cats\\cat.4390.jpg\n.//images//cats\\cat.4391.jpg\n.//images//cats\\cat.4392.jpg\n.//images//cats\\cat.4393.jpg\n.//images//cats\\cat.4394.jpg\n.//images//cats\\cat.4395.jpg\n.//images//cats\\cat.4396.jpg\n.//images//cats\\cat.4397(1).jpg\n.//images//cats\\cat.4397.jpg\n.//images//cats\\cat.4398.jpg\n.//images//cats\\cat.4399.jpg\n.//images//cats\\cat.4400.jpg\n.//images//cats\\cat.4401.jpg\n.//images//cats\\cat.4402.jpg\n.//images//cats\\cat.4403.jpg\n.//images//cats\\cat.4404.jpg\n.//images//cats\\cat.4405.jpg\n.//images//cats\\cat.4406.jpg\n.//images//cats\\cat.4407.jpg\n.//images//cats\\cat.4408.jpg\n.//images//cats\\cat.4409.jpg\n.//images//cats\\cat.4410.jpg\n.//images//cats\\cat.4411.jpg\n.//images//cats\\cat.4412.jpg\n.//images//cats\\cat.4413.jpg\n.//images//cats\\cat.4414.jpg\n.//images//cats\\cat.4415.jpg\n.//images//cats\\cat.4416.jpg\n.//images//cats\\cat.4417.jpg\n.//images//cats\\cat.4418.jpg\n.//images//cats\\cat.4419.jpg\n.//images//cats\\cat.4420.jpg\n.//images//cats\\cat.4421.jpg\n.//images//cats\\cat.4422.jpg\n.//images//cats\\cat.4423.jpg\n.//images//cats\\cat.4424.jpg\n.//images//cats\\cat.4425.jpg\n.//images//cats\\cat.4426.jpg\n.//images//cats\\cat.4427.jpg\n.//images//cats\\cat.4428.jpg\n.//images//cats\\cat.4429.jpg\n.//images//cats\\cat.4430.jpg\n.//images//cats\\cat.4431.jpg\n.//images//cats\\cat.4432.jpg\n.//images//cats\\cat.4433.jpg\n.//images//cats\\cat.4434.jpg\n.//images//cats\\cat.4435.jpg\n.//images//cats\\cat.4436.jpg\n.//images//cats\\cat.4437.jpg\n.//images//cats\\cat.4438.jpg\n.//images//cats\\cat.4439.jpg\n.//images//cats\\cat.4440.jpg\n.//images//cats\\cat.4441.jpg\n.//images//cats\\cat.4442.jpg\n.//images//cats\\cat.4443.jpg\n.//images//cats\\cat.4444.jpg\n.//images//cats\\cat.4445.jpg\n.//images//cats\\cat.4446.jpg\n.//images//cats\\cat.4447.jpg\n.//images//cats\\cat.4448.jpg\n.//images//cats\\cat.4449.jpg\n.//images//cats\\cat.4450.jpg\n.//images//cats\\cat.4451.jpg\n.//images//cats\\cat.4452.jpg\n.//images//cats\\cat.4453.jpg\n.//images//cats\\cat.4454.jpg\n.//images//cats\\cat.4455.jpg\n.//images//cats\\cat.4456.jpg\n.//images//cats\\cat.4457.jpg\n.//images//cats\\cat.4458.jpg\n.//images//cats\\cat.4459.jpg\n.//images//cats\\cat.4460.jpg\n.//images//cats\\cat.4461.jpg\n.//images//cats\\cat.4462.jpg\n.//images//cats\\cat.4463.jpg\n.//images//cats\\cat.4464.jpg\n.//images//cats\\cat.4465.jpg\n.//images//cats\\cat.4466.jpg\n.//images//cats\\cat.4467.jpg\n.//images//cats\\cat.4468.jpg\n.//images//cats\\cat.4469.jpg\n.//images//cats\\cat.4470.jpg\n.//images//cats\\cat.4471.jpg\n.//images//cats\\cat.4472.jpg\n.//images//cats\\cat.4473.jpg\n.//images//cats\\cat.4474.jpg\n.//images//cats\\cat.4475.jpg\n.//images//cats\\cat.4476.jpg\n.//images//cats\\cat.4477.jpg\n.//images//cats\\cat.4478.jpg\n.//images//cats\\cat.4479.jpg\n.//images//cats\\cat.4480.jpg\n.//images//cats\\cat.4481.jpg\n.//images//cats\\cat.4482.jpg\n.//images//cats\\cat.4483.jpg\n.//images//cats\\cat.4484.jpg\n.//images//cats\\cat.4485.jpg\n.//images//cats\\cat.4486.jpg\n.//images//cats\\cat.4487.jpg\n.//images//cats\\cat.4488.jpg\n.//images//cats\\cat.4489.jpg\n.//images//cats\\cat.4490.jpg\n.//images//cats\\cat.4491.jpg\n.//images//cats\\cat.4492.jpg\n.//images//cats\\cat.4493.jpg\n.//images//cats\\cat.4494.jpg\n.//images//cats\\cat.4495.jpg\n.//images//cats\\cat.4496.jpg\n.//images//cats\\cat.4497.jpg\n.//images//cats\\cat.4498.jpg\n.//images//cats\\cat.4499.jpg\n.//images//cats\\cat.4500.jpg\n.//images//cats\\cat.4501.jpg\n.//images//cats\\cat.4502.jpg\n.//images//cats\\cat.4503.jpg\n.//images//cats\\cat.4504.jpg\n.//images//cats\\cat.4505.jpg\n.//images//cats\\cat.4506.jpg\n.//images//cats\\cat.4507.jpg\n.//images//cats\\cat.4508.jpg\n.//images//cats\\cat.4509.jpg\n.//images//cats\\cat.4510.jpg\n.//images//cats\\cat.4511.jpg\n.//images//cats\\cat.4512.jpg\n.//images//cats\\cat.4513.jpg\n.//images//cats\\cat.4514.jpg\n.//images//cats\\cat.4515.jpg\n.//images//cats\\cat.4516.jpg\n.//images//cats\\cat.4517.jpg\n.//images//cats\\cat.4518.jpg\n.//images//cats\\cat.4519.jpg\n.//images//cats\\cat.4520.jpg\n.//images//cats\\cat.4521.jpg\n.//images//cats\\cat.4522.jpg\n.//images//cats\\cat.4523.jpg\n.//images//cats\\cat.4524.jpg\n.//images//cats\\cat.4525.jpg\n.//images//cats\\cat.4526.jpg\n.//images//cats\\cat.4527.jpg\n.//images//cats\\cat.4528.jpg\n.//images//cats\\cat.4529.jpg\n.//images//cats\\cat.4530.jpg\n.//images//cats\\cat.4531.jpg\n.//images//cats\\cat.4532.jpg\n.//images//cats\\cat.4533.jpg\n.//images//cats\\cat.4534.jpg\n.//images//cats\\cat.4535.jpg\n.//images//cats\\cat.4536.jpg\n.//images//cats\\cat.4537.jpg\n.//images//cats\\cat.4538.jpg\n.//images//cats\\cat.4539.jpg\n.//images//cats\\cat.4540.jpg\n.//images//cats\\cat.4541.jpg\n.//images//cats\\cat.4542.jpg\n.//images//cats\\cat.4543.jpg\n.//images//cats\\cat.4544.jpg\n.//images//cats\\cat.4545.jpg\n.//images//cats\\cat.4546.jpg\n.//images//cats\\cat.4547.jpg\n.//images//cats\\cat.4548.jpg\n.//images//cats\\cat.4549.jpg\n.//images//cats\\cat.4550.jpg\n.//images//cats\\cat.4551.jpg\n.//images//cats\\cat.4552.jpg\n.//images//cats\\cat.4553.jpg\n.//images//cats\\cat.4554.jpg\n.//images//cats\\cat.4555.jpg\n.//images//cats\\cat.4556.jpg\n.//images//cats\\cat.4557.jpg\n.//images//cats\\cat.4558.jpg\n.//images//cats\\cat.4559.jpg\n.//images//cats\\cat.4560.jpg\n.//images//cats\\cat.4561.jpg\n.//images//cats\\cat.4562.jpg\n.//images//cats\\cat.4563.jpg\n.//images//cats\\cat.4564.jpg\n.//images//cats\\cat.4565.jpg\n.//images//cats\\cat.4566.jpg\n.//images//cats\\cat.4567.jpg\n.//images//cats\\cat.4568.jpg\n.//images//cats\\cat.4569.jpg\n.//images//cats\\cat.4570.jpg\n.//images//cats\\cat.4571.jpg\n.//images//cats\\cat.4572.jpg\n.//images//cats\\cat.4573.jpg\n.//images//cats\\cat.4574.jpg\n.//images//cats\\cat.4575.jpg\n.//images//cats\\cat.4576.jpg\n.//images//cats\\cat.4577.jpg\n.//images//cats\\cat.4578.jpg\n.//images//cats\\cat.4579.jpg\n.//images//cats\\cat.4580.jpg\n.//images//cats\\cat.4581.jpg\n.//images//cats\\cat.4582.jpg\n.//images//cats\\cat.4583.jpg\n.//images//cats\\cat.4584.jpg\n.//images//cats\\cat.4585.jpg\n.//images//cats\\cat.4586.jpg\n.//images//cats\\cat.4587.jpg\n.//images//cats\\cat.4588.jpg\n.//images//cats\\cat.4589.jpg\n.//images//cats\\cat.4590.jpg\n.//images//cats\\cat.4591.jpg\n.//images//cats\\cat.4592.jpg\n.//images//cats\\cat.4593.jpg\n.//images//cats\\cat.4594.jpg\n.//images//cats\\cat.4595.jpg\n.//images//cats\\cat.4596.jpg\n.//images//cats\\cat.4597.jpg\n.//images//cats\\cat.4598.jpg\n.//images//cats\\cat.4599.jpg\n.//images//cats\\cat.4600.jpg\n.//images//cats\\cat.4601.jpg\n.//images//cats\\cat.4602.jpg\n.//images//cats\\cat.4603.jpg\n.//images//cats\\cat.4604.jpg\n.//images//cats\\cat.4605.jpg\n.//images//cats\\cat.4606.jpg\n.//images//cats\\cat.4607.jpg\n.//images//cats\\cat.4608.jpg\n.//images//cats\\cat.4609.jpg\n.//images//cats\\cat.4610.jpg\n.//images//cats\\cat.4611.jpg\n.//images//cats\\cat.4612.jpg\n.//images//cats\\cat.4613.jpg\n.//images//cats\\cat.4614.jpg\n.//images//cats\\cat.4615.jpg\n.//images//cats\\cat.4616.jpg\n.//images//cats\\cat.4617.jpg\n.//images//cats\\cat.4618(1).jpg\n.//images//cats\\cat.4618.jpg\n.//images//cats\\cat.4619.jpg\n.//images//cats\\cat.4620.jpg\n.//images//cats\\cat.4621.jpg\n.//images//cats\\cat.4622.jpg\n.//images//cats\\cat.4623.jpg\n.//images//cats\\cat.4624(1).jpg\n.//images//cats\\cat.4624.jpg\n.//images//cats\\cat.4625.jpg\n.//images//cats\\cat.4626.jpg\n.//images//cats\\cat.4627.jpg\n.//images//cats\\cat.4628.jpg\n.//images//cats\\cat.4629.jpg\n.//images//cats\\cat.4630(1).jpg\n.//images//cats\\cat.4630.jpg\n.//images//cats\\cat.4631.jpg\n.//images//cats\\cat.4632.jpg\n.//images//cats\\cat.4633.jpg\n.//images//cats\\cat.4634.jpg\n.//images//cats\\cat.4635.jpg\n.//images//cats\\cat.4636.jpg\n.//images//cats\\cat.4637.jpg\n.//images//cats\\cat.4638.jpg\n.//images//cats\\cat.4639.jpg\n.//images//cats\\cat.4640.jpg\n.//images//cats\\cat.4641.jpg\n.//images//cats\\cat.4642.jpg\n.//images//cats\\cat.4643.jpg\n.//images//cats\\cat.4644.jpg\n.//images//cats\\cat.4645.jpg\n.//images//cats\\cat.4646.jpg\n.//images//cats\\cat.4647.jpg\n.//images//cats\\cat.4648.jpg\n.//images//cats\\cat.4649.jpg\n.//images//cats\\cat.4650.jpg\n.//images//cats\\cat.4651.jpg\n.//images//cats\\cat.4652.jpg\n.//images//cats\\cat.4653.jpg\n.//images//cats\\cat.4654.jpg\n.//images//cats\\cat.4655.jpg\n.//images//cats\\cat.4656.jpg\n.//images//cats\\cat.4657.jpg\n.//images//cats\\cat.4658.jpg\n.//images//cats\\cat.4659.jpg\n.//images//cats\\cat.4660.jpg\n.//images//cats\\cat.4661.jpg\n.//images//cats\\cat.4662.jpg\n.//images//cats\\cat.4663.jpg\n.//images//cats\\cat.4664.jpg\n.//images//cats\\cat.4665.jpg\n.//images//cats\\cat.4666.jpg\n.//images//cats\\cat.4667.jpg\n.//images//cats\\cat.4668.jpg\n.//images//cats\\cat.4669.jpg\n.//images//cats\\cat.4670.jpg\n.//images//cats\\cat.4671.jpg\n.//images//cats\\cat.4672.jpg\n.//images//cats\\cat.4673.jpg\n.//images//cats\\cat.4674.jpg\n.//images//cats\\cat.4675.jpg\n.//images//cats\\cat.4676.jpg\n.//images//cats\\cat.4677.jpg\n.//images//cats\\cat.4678.jpg\n.//images//cats\\cat.4679.jpg\n.//images//cats\\cat.4680.jpg\n.//images//cats\\cat.4681.jpg\n.//images//cats\\cat.4682.jpg\n.//images//cats\\cat.4683.jpg\n.//images//cats\\cat.4684.jpg\n.//images//cats\\cat.4685.jpg\n.//images//cats\\cat.4686.jpg\n.//images//cats\\cat.4687.jpg\n.//images//cats\\cat.4688.jpg\n.//images//cats\\cat.4689.jpg\n.//images//cats\\cat.4690.jpg\n.//images//cats\\cat.4691.jpg\n.//images//cats\\cat.4692.jpg\n.//images//cats\\cat.4693.jpg\n.//images//cats\\cat.4694.jpg\n.//images//cats\\cat.4695.jpg\n.//images//cats\\cat.4696.jpg\n.//images//cats\\cat.4697.jpg\n.//images//cats\\cat.4698.jpg\n.//images//cats\\cat.4699.jpg\n.//images//cats\\cat.4700.jpg\n.//images//cats\\cat.4701.jpg\n.//images//cats\\cat.4702.jpg\n.//images//cats\\cat.4703.jpg\n.//images//cats\\cat.4704.jpg\n.//images//cats\\cat.4705.jpg\n.//images//cats\\cat.4706.jpg\n.//images//cats\\cat.4707.jpg\n.//images//cats\\cat.4708.jpg\n.//images//cats\\cat.4709.jpg\n.//images//cats\\cat.4710.jpg\n.//images//cats\\cat.4711.jpg\n.//images//cats\\cat.4712.jpg\n.//images//cats\\cat.4713.jpg\n.//images//cats\\cat.4714.jpg\n.//images//cats\\cat.4715.jpg\n.//images//cats\\cat.4716.jpg\n.//images//cats\\cat.4717.jpg\n.//images//cats\\cat.4718.jpg\n.//images//cats\\cat.4719.jpg\n.//images//cats\\cat.4720.jpg\n.//images//cats\\cat.4721.jpg\n.//images//cats\\cat.4722.jpg\n.//images//cats\\cat.4723.jpg\n.//images//cats\\cat.4724.jpg\n.//images//cats\\cat.4725.jpg\n.//images//cats\\cat.4726.jpg\n.//images//cats\\cat.4727.jpg\n.//images//cats\\cat.4728.jpg\n.//images//cats\\cat.4729.jpg\n.//images//cats\\cat.4730.jpg\n.//images//cats\\cat.4731.jpg\n.//images//cats\\cat.4732.jpg\n.//images//cats\\cat.4733.jpg\n.//images//cats\\cat.4734.jpg\n.//images//cats\\cat.4735.jpg\n.//images//cats\\cat.4736.jpg\n.//images//cats\\cat.4737.jpg\n.//images//cats\\cat.4738.jpg\n.//images//cats\\cat.4739.jpg\n.//images//cats\\cat.4740.jpg\n.//images//cats\\cat.4741.jpg\n.//images//cats\\cat.4742.jpg\n.//images//cats\\cat.4743.jpg\n.//images//cats\\cat.4744.jpg\n.//images//cats\\cat.4745.jpg\n.//images//cats\\cat.4746.jpg\n.//images//cats\\cat.4747.jpg\n.//images//cats\\cat.4748.jpg\n.//images//cats\\cat.4749.jpg\n.//images//cats\\cat.4750.jpg\n.//images//cats\\cat.4751.jpg\n.//images//cats\\cat.4752.jpg\n.//images//cats\\cat.4753.jpg\n.//images//cats\\cat.4754.jpg\n.//images//cats\\cat.4755.jpg\n.//images//cats\\cat.4756.jpg\n.//images//cats\\cat.4757.jpg\n.//images//cats\\cat.4758.jpg\n.//images//cats\\cat.4759.jpg\n.//images//cats\\cat.4760.jpg\n.//images//cats\\cat.4761.jpg\n.//images//cats\\cat.4762.jpg\n.//images//cats\\cat.4763.jpg\n.//images//cats\\cat.4764.jpg\n.//images//cats\\cat.4765.jpg\n.//images//cats\\cat.4766.jpg\n.//images//cats\\cat.4767.jpg\n.//images//cats\\cat.4768.jpg\n.//images//cats\\cat.4769.jpg\n.//images//cats\\cat.4770.jpg\n.//images//cats\\cat.4771.jpg\n.//images//cats\\cat.4772.jpg\n.//images//cats\\cat.4773.jpg\n.//images//cats\\cat.4774.jpg\n.//images//cats\\cat.4775.jpg\n.//images//cats\\cat.4776.jpg\n.//images//cats\\cat.4777.jpg\n.//images//cats\\cat.4778.jpg\n.//images//cats\\cat.4779.jpg\n.//images//cats\\cat.4780.jpg\n.//images//cats\\cat.4781.jpg\n.//images//cats\\cat.4782.jpg\n.//images//cats\\cat.4783.jpg\n.//images//cats\\cat.4784.jpg\n.//images//cats\\cat.4785.jpg\n.//images//cats\\cat.4786.jpg\n.//images//cats\\cat.4787.jpg\n.//images//cats\\cat.4788.jpg\n.//images//cats\\cat.4789.jpg\n.//images//cats\\cat.4790.jpg\n.//images//cats\\cat.4791.jpg\n.//images//cats\\cat.4792.jpg\n.//images//cats\\cat.4793.jpg\n.//images//cats\\cat.4794.jpg\n.//images//cats\\cat.4795.jpg\n.//images//cats\\cat.4796.jpg\n.//images//cats\\cat.4797.jpg\n.//images//cats\\cat.4798.jpg\n.//images//cats\\cat.4799.jpg\n.//images//cats\\cat.4800.jpg\n.//images//cats\\cat.4801.jpg\n.//images//cats\\cat.4802.jpg\n.//images//cats\\cat.4803(1).jpg\n.//images//cats\\cat.4803.jpg\n.//images//cats\\cat.4804.jpg\n.//images//cats\\cat.4805.jpg\n.//images//cats\\cat.4806.jpg\n.//images//cats\\cat.4807.jpg\n.//images//cats\\cat.4808.jpg\n.//images//cats\\cat.4809.jpg\n.//images//cats\\cat.4810.jpg\n.//images//cats\\cat.4811.jpg\n.//images//cats\\cat.4812.jpg\n.//images//cats\\cat.4813.jpg\n.//images//cats\\cat.4814.jpg\n.//images//cats\\cat.4815.jpg\n.//images//cats\\cat.4816.jpg\n.//images//cats\\cat.4817(1).jpg\n.//images//cats\\cat.4817.jpg\n.//images//cats\\cat.4818.jpg\n.//images//cats\\cat.4819.jpg\n.//images//cats\\cat.4820.jpg\n.//images//cats\\cat.4821.jpg\n.//images//cats\\cat.4822.jpg\n.//images//cats\\cat.4823.jpg\n.//images//cats\\cat.4824.jpg\n.//images//cats\\cat.4825.jpg\n.//images//cats\\cat.4826.jpg\n.//images//cats\\cat.4827.jpg\n.//images//cats\\cat.4828.jpg\n.//images//cats\\cat.4829.jpg\n.//images//cats\\cat.4830.jpg\n.//images//cats\\cat.4831.jpg\n.//images//cats\\cat.4832.jpg\n.//images//cats\\cat.4833.jpg\n.//images//cats\\cat.4834.jpg\n.//images//cats\\cat.4835.jpg\n.//images//cats\\cat.4836.jpg\n.//images//cats\\cat.4837.jpg\n.//images//cats\\cat.4838.jpg\n.//images//cats\\cat.4839.jpg\n.//images//cats\\cat.4840.jpg\n.//images//cats\\cat.4841.jpg\n.//images//cats\\cat.4842.jpg\n.//images//cats\\cat.4843.jpg\n.//images//cats\\cat.4844.jpg\n.//images//cats\\cat.4845.jpg\n.//images//cats\\cat.4846.jpg\n.//images//cats\\cat.4847.jpg\n.//images//cats\\cat.4848.jpg\n.//images//cats\\cat.4849.jpg\n.//images//cats\\cat.4850.jpg\n.//images//cats\\cat.4851.jpg\n.//images//cats\\cat.4852.jpg\n.//images//cats\\cat.4853.jpg\n.//images//cats\\cat.4854.jpg\n.//images//cats\\cat.4855.jpg\n.//images//cats\\cat.4856.jpg\n.//images//cats\\cat.4857.jpg\n.//images//cats\\cat.4858.jpg\n.//images//cats\\cat.4859.jpg\n.//images//cats\\cat.4860.jpg\n.//images//cats\\cat.4861.jpg\n.//images//cats\\cat.4862.jpg\n.//images//cats\\cat.4863.jpg\n.//images//cats\\cat.4864.jpg\n.//images//cats\\cat.4865.jpg\n.//images//cats\\cat.4866.jpg\n.//images//cats\\cat.4867.jpg\n.//images//cats\\cat.4868.jpg\n.//images//cats\\cat.4869.jpg\n.//images//cats\\cat.4870.jpg\n.//images//cats\\cat.4871.jpg\n.//images//cats\\cat.4872.jpg\n.//images//cats\\cat.4873.jpg\n.//images//cats\\cat.4874.jpg\n.//images//cats\\cat.4875.jpg\n.//images//cats\\cat.4876.jpg\n.//images//cats\\cat.4877.jpg\n.//images//cats\\cat.4878.jpg\n.//images//cats\\cat.4879.jpg\n.//images//cats\\cat.4880.jpg\n.//images//cats\\cat.4881.jpg\n.//images//cats\\cat.4882.jpg\n.//images//cats\\cat.4883.jpg\n.//images//cats\\cat.4884.jpg\n.//images//cats\\cat.4885.jpg\n.//images//cats\\cat.4886.jpg\n.//images//cats\\cat.4887.jpg\n.//images//cats\\cat.4888.jpg\n.//images//cats\\cat.4889.jpg\n.//images//cats\\cat.4890.jpg\n.//images//cats\\cat.4891.jpg\n.//images//cats\\cat.4892.jpg\n.//images//cats\\cat.4893.jpg\n.//images//cats\\cat.4894.jpg\n.//images//cats\\cat.4895.jpg\n.//images//cats\\cat.4896.jpg\n.//images//cats\\cat.4897.jpg\n.//images//cats\\cat.4898.jpg\n.//images//cats\\cat.4899.jpg\n.//images//cats\\cat.4900.jpg\n.//images//cats\\cat.4901.jpg\n.//images//cats\\cat.4902.jpg\n.//images//cats\\cat.4903.jpg\n.//images//cats\\cat.4904.jpg\n.//images//cats\\cat.4905.jpg\n.//images//cats\\cat.4906.jpg\n.//images//cats\\cat.4907.jpg\n.//images//cats\\cat.4908.jpg\n.//images//cats\\cat.4909.jpg\n.//images//cats\\cat.4910.jpg\n.//images//cats\\cat.4911.jpg\n.//images//cats\\cat.4912.jpg\n.//images//cats\\cat.4913.jpg\n.//images//cats\\cat.4914.jpg\n.//images//cats\\cat.4915.jpg\n.//images//cats\\cat.4916.jpg\n.//images//cats\\cat.4917.jpg\n.//images//cats\\cat.4918.jpg\n.//images//cats\\cat.4919.jpg\n.//images//cats\\cat.4920.jpg\n.//images//cats\\cat.4921.jpg\n.//images//cats\\cat.4922.jpg\n.//images//cats\\cat.4923.jpg\n.//images//cats\\cat.4924.jpg\n.//images//cats\\cat.4925.jpg\n.//images//cats\\cat.4926.jpg\n.//images//cats\\cat.4927.jpg\n.//images//cats\\cat.4928.jpg\n.//images//cats\\cat.4929.jpg\n.//images//cats\\cat.4930.jpg\n.//images//cats\\cat.4931.jpg\n.//images//cats\\cat.4932.jpg\n.//images//cats\\cat.4933.jpg\n.//images//cats\\cat.4934.jpg\n.//images//cats\\cat.4935.jpg\n.//images//cats\\cat.4936.jpg\n.//images//cats\\cat.4937.jpg\n.//images//cats\\cat.4938.jpg\n.//images//cats\\cat.4939.jpg\n.//images//cats\\cat.4940.jpg\n.//images//cats\\cat.4941.jpg\n.//images//cats\\cat.4942.jpg\n.//images//cats\\cat.4943.jpg\n.//images//cats\\cat.4944.jpg\n.//images//cats\\cat.4945.jpg\n.//images//cats\\cat.4946.jpg\n.//images//cats\\cat.4947.jpg\n.//images//cats\\cat.4948.jpg\n.//images//cats\\cat.4949.jpg\n.//images//cats\\cat.4950.jpg\n.//images//cats\\cat.4951.jpg\n.//images//cats\\cat.4952.jpg\n.//images//cats\\cat.4953.jpg\n.//images//cats\\cat.4954.jpg\n.//images//cats\\cat.4955.jpg\n.//images//cats\\cat.4956.jpg\n.//images//cats\\cat.4957.jpg\n.//images//cats\\cat.4958.jpg\n.//images//cats\\cat.4959.jpg\n.//images//cats\\cat.4960.jpg\n.//images//cats\\cat.4961.jpg\n.//images//cats\\cat.4962.jpg\n.//images//cats\\cat.4963.jpg\n.//images//cats\\cat.4964.jpg\n.//images//cats\\cat.4965.jpg\n.//images//cats\\cat.4966.jpg\n.//images//cats\\cat.4967.jpg\n.//images//cats\\cat.4968.jpg\n.//images//cats\\cat.4969.jpg\n.//images//cats\\cat.4970.jpg\n.//images//cats\\cat.4971.jpg\n.//images//cats\\cat.4972.jpg\n.//images//cats\\cat.4973.jpg\n.//images//cats\\cat.4974.jpg\n.//images//cats\\cat.4975.jpg\n.//images//cats\\cat.4976.jpg\n.//images//cats\\cat.4977.jpg\n.//images//cats\\cat.4978.jpg\n.//images//cats\\cat.4979.jpg\n.//images//cats\\cat.4980.jpg\n.//images//cats\\cat.4981.jpg\n.//images//cats\\cat.4982.jpg\n.//images//cats\\cat.4983.jpg\n.//images//cats\\cat.4984.jpg\n.//images//cats\\cat.4985.jpg\n.//images//cats\\cat.4986.jpg\n.//images//cats\\cat.4987.jpg\n.//images//cats\\cat.4988.jpg\n.//images//cats\\cat.4989.jpg\n.//images//cats\\cat.4990.jpg\n.//images//cats\\cat.4991.jpg\n.//images//cats\\cat.4992.jpg\n.//images//cats\\cat.4993.jpg\n.//images//cats\\cat.4994.jpg\n.//images//cats\\cat.4995.jpg\n.//images//cats\\cat.4996.jpg\n.//images//cats\\cat.4997.jpg\n.//images//cats\\cat.4998.jpg\n.//images//cats\\cat.4999.jpg\n.//images//cats\\cat.5000.jpg\n"
    }
   ],
   "source": [
    "import sys\n",
    "import cv2\n",
    "import glob\n",
    "\n",
    "img_files=glob.glob('.//images//cats//*.jpg')\n",
    "\n",
    "for f in img_files:\n",
    "    print(f)\n",
    "\n"
   ]
  },
  {
   "cell_type": "markdown",
   "metadata": {},
   "source": [
    "[2] 전체 화면 영상 출력 창 만들기. --> 함수들 직접 찾아보기\n",
    "\n",
    "    - 먼저 cv2.WINDOW_NORMAL 속성의 창을 만든 후, cv2.setWindowProperty() 함수를 사용하여 전체 화면 속성으로 변경.\n",
    "    - cv2.setWindowProperty('image',cv2.WND_PROP_FULLSCREEN,cv2.WINDOW_FULLSCREEN)\n",
    "    "
   ]
  },
  {
   "cell_type": "code",
   "execution_count": 1,
   "metadata": {},
   "outputs": [
    {
     "output_type": "error",
     "ename": "NameError",
     "evalue": "name 'cv2' is not defined",
     "traceback": [
      "\u001b[1;31m---------------------------------------------------------------------------\u001b[0m",
      "\u001b[1;31mNameError\u001b[0m                                 Traceback (most recent call last)",
      "\u001b[1;32m<ipython-input-1-e8c1e2e69610>\u001b[0m in \u001b[0;36m<module>\u001b[1;34m\u001b[0m\n\u001b[1;32m----> 1\u001b[1;33m \u001b[0mcv2\u001b[0m\u001b[1;33m.\u001b[0m\u001b[0mnamedWindow\u001b[0m\u001b[1;33m(\u001b[0m\u001b[1;34m'image'\u001b[0m\u001b[1;33m,\u001b[0m\u001b[0mcv2\u001b[0m\u001b[1;33m.\u001b[0m\u001b[0mWINDOW_NORMAL\u001b[0m\u001b[1;33m)\u001b[0m \u001b[1;31m#WINDOW NORMAL로 마ㅑㄴ들어야 전체화면이 가능하다.\u001b[0m\u001b[1;33m\u001b[0m\u001b[1;33m\u001b[0m\u001b[0m\n\u001b[0m\u001b[0;32m      2\u001b[0m \u001b[0mcv2\u001b[0m\u001b[1;33m.\u001b[0m\u001b[0msetWindowProperty\u001b[0m\u001b[1;33m(\u001b[0m\u001b[1;34m'image'\u001b[0m\u001b[1;33m,\u001b[0m\u001b[0mcv2\u001b[0m\u001b[1;33m.\u001b[0m\u001b[0mWND_PROP_FULLSCREEN\u001b[0m\u001b[1;33m,\u001b[0m\u001b[0mcv2\u001b[0m\u001b[1;33m.\u001b[0m\u001b[0mWINDOW_FULLSCREEN\u001b[0m\u001b[1;33m)\u001b[0m\u001b[1;33m\u001b[0m\u001b[1;33m\u001b[0m\u001b[0m\n\u001b[0;32m      3\u001b[0m \u001b[0mcnt\u001b[0m\u001b[1;33m=\u001b[0m\u001b[0mlen\u001b[0m\u001b[1;33m(\u001b[0m\u001b[0mimg_files\u001b[0m\u001b[1;33m)\u001b[0m \u001b[1;31m# 무한루프로 다시 처음으로 돌아가기 위해 len을 구한다.\u001b[0m\u001b[1;33m\u001b[0m\u001b[1;33m\u001b[0m\u001b[0m\n\u001b[0;32m      4\u001b[0m \u001b[0midx\u001b[0m\u001b[1;33m=\u001b[0m\u001b[1;36m0\u001b[0m \u001b[1;31m#현재 보고있는 index를 표시하기 위해\u001b[0m\u001b[1;33m\u001b[0m\u001b[1;33m\u001b[0m\u001b[0m\n\u001b[0;32m      5\u001b[0m \u001b[1;33m\u001b[0m\u001b[0m\n",
      "\u001b[1;31mNameError\u001b[0m: name 'cv2' is not defined"
     ]
    }
   ],
   "source": [
    "cv2.namedWindow('image',cv2.WINDOW_NORMAL) #WINDOW NORMAL로 마ㅑㄴ들어야 전체화면이 가능하다.\n",
    "cv2.setWindowProperty('image',cv2.WND_PROP_FULLSCREEN,cv2.WINDOW_FULLSCREEN)\n",
    "cnt=len(img_files) # 무한루프로 다시 처음으로 돌아가기 위해 len을 구한다.\n",
    "idx=0 #현재 보고있는 index를 표시하기 위해 \n",
    "\n",
    "while True:\n",
    "    img=cv2.imread(img_files[idx])\n",
    "\n",
    "    # none 인지 아닌지 체크하는것도 넣어주면 좋음\n",
    "    if not img_files:\n",
    "        print(\"There are no jpg files in 'images' folder\")\n",
    "        sys.exit()\n",
    "        \n",
    "    cv2.imshow('image',img)\n",
    "\n",
    "    #1000ms  약 1초. 종료 기중을 주기위해서 if문으로 어떤 특정 키를 누르면 (여기서는 esc) 무한루프 종료\n",
    "\n",
    "    if cv2.waitKey(1000) ==27: #>=0: 일 경우 키보드의 아무 키.\n",
    "        \n",
    "        break\n",
    "     \n",
    "    idx+=1\n",
    "    if idx>=cnt:  #다시 처음으로 돌리기 위해\n",
    "        idx=0 \n",
    "        \n",
    "    \n",
    "cv2.destroyAllwindows()\n",
    "\n",
    "\n"
   ]
  },
  {
   "cell_type": "code",
   "execution_count": null,
   "metadata": {},
   "outputs": [],
   "source": []
  }
 ]
}