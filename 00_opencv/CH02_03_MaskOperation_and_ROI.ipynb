{
 "metadata": {
  "language_info": {
   "codemirror_mode": {
    "name": "ipython",
    "version": 3
   },
   "file_extension": ".py",
   "mimetype": "text/x-python",
   "name": "python",
   "nbconvert_exporter": "python",
   "pygments_lexer": "ipython3",
   "version": "3.6.10-final"
  },
  "orig_nbformat": 2,
  "kernelspec": {
   "name": "python_defaultSpec_1601905175744",
   "display_name": "Python 3.6.10 64-bit ('TF2': conda)",
   "metadata": {
    "interpreter": {
     "hash": "0852b15a40ba772cc6cccde9ee3e0692fec73481972f7fa88d7df0aedb40ab85"
    }
   }
  }
 },
 "nbformat": 4,
 "nbformat_minor": 2,
 "cells": [
  {
   "source": [
    "# CH02 03 Mask 연산과 ROI\n",
    "## 목적 : OpenCV에서 제공하는 마스크 연산 기능을 이용하여 영상의 ROI를 설정하고, ROI를 다루는 방법을 설명한다.\n",
    "\n",
    "- ROI : Resion of Interest , 관심영역: 영상에서 특정 연산을 수행하고자 하는 임의의 부분 영역\n",
    "- Mask 영상 : 객체와 Background를 구분짖기 위해, 흰색 (ROI부분),검정색으로 구부횐 흑백 영상.\n",
    "    - pixel 값이 1이상인 부분을 ROI로 설정. 0 or 255로 구분된 영상을 사용한다.\n",
    "- OpenCV는 일부 함수에 대하여 ROI 연산을 지원하며, 이때 마스크 영상을 인자로 함께 전달해야 한다.\n",
    "    - eg) cv2.dopyTo(), cv2.calcHist(), cv2.bitwise_or(), cv2.matchTemplate(), etc...\n",
    "- 마스크 영상은 cv2.CV_8UC1 타입(그레이스케일 영상)\n",
    "- 마스크 영상의 pixel값이 0이 아닌 위치에서만 연산이 수행됨.\n",
    "    - 보통 마스크 영상으로는 0 또는 255로 구성된 이진 영상(binary image)을 사용.\n",
    "\n",
    "\n",
    "- 마스크 연산을 지원하는 Pixel 값 복사 함수\n",
    "\n",
    "  - 보통 마스크 영상으로는 0 또는 255로 구성된 이진 영상(binary image)을 사용<br/>\n",
    "\n",
    "  cv2.copyTo(src,mask,dst=None) ->dst\n",
    "    - src : 입력 영상\n",
    "    - mask : 마스크 영상. cv2.CV_8U.(np.uint8)\n",
    "    - dst : 출력 영상. 만약 src와 크기 및 타입니 같은 dst를 입력으로 지정하면<br/>\n",
    "            dst를 새로 생성하지 않고 연산을 수행.<br/>\n",
    "            그렇지않으면 dst를 새로 생성하여 연산을 수행항 수 반환함.\n",
    "\n",
    "            - dst 출력 영상 :<br/>\n",
    "            return으로 받는 dst가 있고(단순히 출력으로만 동작), 입력으로 받는 dst가 있음(인자로 주게되면,입력과 출력의 역할 동시수행.<br/>\n",
    "            --> src 영상에서 mask영상에서 ROI인 부분(pixel이 0이 아닌 부분)에 대해서만 dst로 복사한다.<br/>\n",
    "            --> dst=cv2.copyTo(src,mask) : 검은 영상에 src영상이 dst로 출력됨.\n",
    "    - src,dst,mask는 사이즈가 같다야 하고,src와 dst는 type이 같아야 한다 (컬러-컬러, 그레이-그레이) <br/?\n",
    "\n",
    "------------------------------------------------------------------------------------------------------------------------\n",
    "\n",
    "<copy 방법>\n",
    "1. opencv 함수 이용<br/>\n",
    "    cv2.copyTo(src,mask,dst)\n",
    "2. numpy 볼리언 인덱싱(Boolean Indexing)을 사용한 마스크 연산<br/>\n",
    "    dst[mask>0]=src[mask>0]<br/>\n",
    "    - mask>0 return 값은 mask와 같은 크기의 배열로 mask 영상에서 0보다 큰 값=1로 변환하여 채워진 배열.   \n",
    "    - mask>0의 return 값을 src에 넣으면, 해당 index에 있는 Pixel값이 바뀐다.\n",
    "    - 참조 형태로 복사하였기 때문에, dst 영상의 Pixel 값이 바뀐다. \n",
    "------------------------------------------------------------------------------------------------------------\n",
    "\n",
    "<우면한 PNG 파일을 이용하여 영상 생성>\n",
    "- PNG는 channel이 4개이다.\n",
    "h,w=src.shape[:,2]\n",
    "crop=dst[0:h,0:w] --> logo 영상과 똑같은 크기여야 하므로, crop을 한다.\n",
    "- .copy를 하지 않았기 때문에 crop이 변하면 dst영상도 변경된다.\n",
    "\n",
    "    \n",
    "            \n"
   ],
   "cell_type": "markdown",
   "metadata": {}
  },
  {
   "cell_type": "code",
   "execution_count": 6,
   "metadata": {
    "tags": []
   },
   "outputs": [],
   "source": [
    "import cv2\n",
    "import sys\n",
    "\n",
    "# 마스크 영상을 이용한 영상 형성\n",
    "src=cv2.imread('../00_data/airplane.bmp',cv2.IMREAD_COLOR)\n",
    "mask=cv2.imread('../00_data/mask_plane.bmp',cv2.IMREAD_GRAYSCALE)\n",
    "dst=cv2.imread('../00_data/field.bmp',cv2.IMREAD_COLOR)\n",
    "\n",
    "if src is None or mask is None or dst is None:\n",
    "    print('Image load failed')\n",
    "    sys.exit()\n",
    "cv2.copyTo(src,mask,dst)\n",
    "#dst[mask>0]=src[mask>0]\n",
    "\n",
    "cv2.imshow('src',src)\n",
    "cv2.imshow('dst',dst)\n",
    "cv2.imshow('mask',mask)\n",
    "cv2.waitKey()\n",
    "cv2.destroyAllWindows()\n"
   ]
  },
  {
   "cell_type": "code",
   "execution_count": 11,
   "metadata": {},
   "outputs": [],
   "source": [
    "# 알파 채널을 마스크 영상으로 이용\n",
    "src=cv2.imread('../00_data/cat.bmp',cv2.IMREAD_COLOR)\n",
    "logo=cv2.imread('../00_data/opencv-logo-white.png',cv2.IMREAD_UNCHANGED)\n",
    "# png는 unchainged를 해야 함. \n",
    "if src is None or logo is None:\n",
    "    print('Image load failed')\n",
    "    sys.exit()\n",
    "mask=logo[:,:,3] #mask는 알파 채널로 만든 마스크 영상\n",
    "logo=logo[:,:,:-1] #logo는 b,g,r 3 채널로 구성된 컬러 영상\n",
    "h,w=mask.shape[:2]\n",
    "crop=src[10:10+h,10:10+w] #logo, mask와 같은 크기의 부분 영상 추출\n",
    "\n",
    "cv2.copyTo(logo,mask,crop)\n",
    "#crop[mask>0]=logo[mask>0]\n",
    "\n",
    "cv2.imshow('src',src)\n",
    "cv2.imshow('logo',logo)\n",
    "cv2.imshow('mask',mask)\n",
    "cv2.waitKey()\n",
    "cv2.destroyAllWindows()\n"
   ]
  }
 ]
}