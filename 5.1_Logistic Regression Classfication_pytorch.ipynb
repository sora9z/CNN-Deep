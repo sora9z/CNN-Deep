{
 "metadata": {
  "language_info": {
   "codemirror_mode": {
    "name": "ipython",
    "version": 3
   },
   "file_extension": ".py",
   "mimetype": "text/x-python",
   "name": "python",
   "nbconvert_exporter": "python",
   "pygments_lexer": "ipython3",
   "version": "3.6.10-final"
  },
  "orig_nbformat": 2,
  "kernelspec": {
   "name": "python_defaultSpec_1600001351961",
   "display_name": "Python 3.6.10 64-bit ('TF2': conda)"
  }
 },
 "nbformat": 4,
 "nbformat_minor": 2,
 "cells": [
  {
   "cell_type": "code",
   "execution_count": 4,
   "metadata": {
    "tags": []
   },
   "outputs": [
    {
     "output_type": "stream",
     "name": "stdout",
     "text": "0 0.6537237\n200 0.49930656\n400 0.43928936\n600 0.40720376\n800 0.3861464\n1000 0.37010872\n\nHypothesis: [[0.19113623]\n [0.27361828]\n [0.62257993]\n [0.6524815 ]\n [0.80738664]\n [0.92911166]] \nCorrect(Y): [[1.]\n [1.]\n [1.]\n [1.]\n [1.]\n [1.]] \nAccuracy: tensor(0.5000)\n"
    }
   ],
   "source": [
    "# Lab 05 Logistic Regression Classifier Pytorch\n",
    "import torch\n",
    "from torch.autograd import Variable\n",
    "import numpy as np\n",
    "\n",
    "torch.manual_seed(000)\n",
    "\n",
    "x_data=np.array([[1,2],[2,3],[3,1],[4,3],[5,3],[6,2]],dtype=np.float32)\n",
    "y_data=np.array([[0],[0],[0],[1],[1],[1]],dtype=np.float32)\n",
    "\n",
    "X=Variable(torch.from_numpy(x_data))\n",
    "Y=Variable(torch.from_numpy(y_data))\n",
    "\n",
    "# Hypothesis using sigmoid:tf.div(1.,tf.exp(tf.matmul(X,W)))\n",
    "linear=torch.nn.Linear(2,1,bias=True) #in = 2 out=1\n",
    "sigmoid=torch.nn.Sigmoid()\n",
    "model=torch.nn.Sequential(linear,sigmoid)\n",
    "\n",
    "optimizer=torch.optim.SGD(model.parameters(),lr=0.01)\n",
    "\n",
    "for step in range(1001):\n",
    "    hypothesis=model(X)\n",
    "    cost=-(Y*torch.log(hypothesis)+(1-Y)*torch.log(1-hypothesis)).mean()\n",
    "    optimizer.zero_grad()\n",
    "    cost.backward()\n",
    "    optimizer.step()\n",
    "\n",
    "    if step%200==0:\n",
    "        print(step,cost.data.numpy())\n",
    "\n",
    "# Accuracy computation\n",
    "predicted=(model(X).data>0).float()\n",
    "accuracy=(predicted==Y.data).float().mean()\n",
    "print(\"\\nHypothesis:\",hypothesis.data.numpy(),\"\\nCorrect(Y):\",predicted.data.numpy(),\"\\nAccuracy:\",accuracy)\n",
    "\n"
   ]
  }
 ]
}