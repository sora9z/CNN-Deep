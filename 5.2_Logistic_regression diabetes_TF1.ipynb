{
 "metadata": {
  "language_info": {
   "codemirror_mode": {
    "name": "ipython",
    "version": 3
   },
   "file_extension": ".py",
   "mimetype": "text/x-python",
   "name": "python",
   "nbconvert_exporter": "python",
   "pygments_lexer": "ipython3",
   "version": 3
  },
  "orig_nbformat": 2
 },
 "nbformat": 4,
 "nbformat_minor": 2,
 "cells": [
  {
   "source": [
    "# 5.2 Logistic Regression Diabletes\n",
    "\n",
    "##(1) 실습 목적\n",
    "    - Logistic regression을 파일로 읽는다.\n",
    "##(2) 사용한 API 및 간단한 설명\n",
    "    - xy=np.loadtxt('path or file name on current directory,dilimiter=',',dtype=np.float32)\n",
    "            :file로부터 데이터를 읽음\n",
    "\n"
   ],
   "cell_type": "markdown",
   "metadata": {}
  },
  {
   "cell_type": "code",
   "execution_count": null,
   "metadata": {},
   "outputs": [],
   "source": []
  }
 ]
}