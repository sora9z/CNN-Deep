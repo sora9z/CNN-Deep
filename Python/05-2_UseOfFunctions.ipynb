{
 "metadata": {
  "language_info": {
   "codemirror_mode": {
    "name": "ipython",
    "version": 3
   },
   "file_extension": ".py",
   "mimetype": "text/x-python",
   "name": "python",
   "nbconvert_exporter": "python",
   "pygments_lexer": "ipython3",
   "version": "3.7.1-final"
  },
  "orig_nbformat": 2,
  "kernelspec": {
   "name": "python3",
   "display_name": "Python 3"
  }
 },
 "nbformat": 4,
 "nbformat_minor": 2,
 "cells": [
  {
   "source": [
    "# 1. Creating factorial functions \n",
    "## - Formula : n!=nx(n-1)x(n-2)x(n-3)x...x1\n",
    "## (1) Use For loop\n",
    "## (2) Use Recursion functions\n",
    "    : 재귀함수. 자기 자신을 호출하는 것.\n",
    "    - 메모화(Memoization) : 재귀함수와 같이 많이 사용됨.**\n",
    "        - 한 번 계산한 값을 저장해 놓은 후, 이후에 다시 계산하지 않고 저장된 값을 활용하는 테크닉.\n",
    "## (3) Early Return (조기 리턴):\n",
    "    - 흐름 중간에 return 키워드를 사용.\n",
    "    - 과거에는 변수는 반드시 앞쪽에 선언, 리턴은 반드시 뒤쪽에서 해야하는 비공식적인 규칙이 있었음.\n",
    "        -  is else 조건문을 만들고 각각 마지막 부분에 return을 하도록 한 것.\n",
    "\n"
   ],
   "cell_type": "markdown",
   "metadata": {}
  },
  {
   "cell_type": "code",
   "execution_count": null,
   "metadata": {},
   "outputs": [],
   "source": [
    "\n",
    "# (1) Use For loop\n",
    "def facTorial(num,n):\n",
    "    for i in range(num-1):\n",
    "        n*=num\n",
    "        num-=1\n",
    "    return n\n",
    "\n",
    "num=int(input('Enter an integer:')) # 입력 될 정수\n",
    "n=1 # factorual  변수\n",
    "print(num)\n",
    "print(facTorial(num,n))"
   ]
  },
  {
   "cell_type": "code",
   "execution_count": null,
   "metadata": {},
   "outputs": [],
   "source": [
    "# Answal\n",
    "def factorial(n):\n",
    "    # 변수 선언\n",
    "    output=1\n",
    "    # 반복문을 돌려 숫자를 더한다.\n",
    "    for i in range(1,n+1):\n",
    "        output*=i\n",
    "    return output\n",
    "\n",
    "# 함수를 호출합니다.\n",
    "print(\"1!:\",factorial(1))\n",
    "print(\"2!:\",factorial(2))\n",
    "print(\"3!:\",factorial(3))\n",
    "print(\"4!:\",factorial(4))\n",
    "print(\"5!:\",factorial(5))\n"
   ]
  },
  {
   "cell_type": "code",
   "execution_count": null,
   "metadata": {},
   "outputs": [],
   "source": [
    "# (2) Use Recursion functions\n",
    "def facTorial_recursion(n):    \n",
    "    if n==0:\n",
    "        return 1\n",
    "    else:\n",
    "        return n*facTorial_recursion(n-1)\n",
    "\n",
    "print(facTorial_recursion(4))\n",
    "print(facTorial_recursion(5))\n"
   ]
  },
  {
   "source": [
    "# 1. Creating Fibonacci function\n",
    "## - Formula : n 번째 수열 = (n-1) 번째 수열 + (n-2) 번째 수열\n",
    "\n",
    "- (1),(2) 아래와 같은 코드의 피보나치 수열은 같은 값을 구하는 연산을 반복하고 있기 때문에 시간이 오래걸림--> 비효율적\n",
    "- (3)번 째 코드블럭에서 이를 해결하기 위해 코드를 수정함.\n"
   ],
   "cell_type": "markdown",
   "metadata": {}
  },
  {
   "cell_type": "code",
   "execution_count": 5,
   "metadata": {},
   "outputs": [
    {
     "output_type": "stream",
     "name": "stdout",
     "text": [
      "1\n",
      "1\n",
      "2\n",
      "3\n",
      "5\n",
      "55\n",
      "9227465\n"
     ]
    }
   ],
   "source": [
    "\n",
    "#(1)\n",
    "def fiboNacci(n):\n",
    "    if n==1 or n==2:\n",
    "        return 1\n",
    "    else:\n",
    "        return fiboNacci(n-1)+fiboNacci(n-2)\n",
    "\n",
    "print(fiboNacci(1))\n",
    "print(fiboNacci(2))\n",
    "print(fiboNacci(3))\n",
    "print(fiboNacci(4))\n",
    "print(fiboNacci(5))\n",
    "print(fiboNacci(10))\n",
    "print(fiboNacci(35)) # -- > 오래걸림\n"
   ]
  },
  {
   "cell_type": "code",
   "execution_count": 42,
   "metadata": {},
   "outputs": [
    {
     "output_type": "stream",
     "name": "stdout",
     "text": [
      "fibonacci(10) 를 구합니다\nfibonacci(9) 를 구합니다\nfibonacci(8) 를 구합니다\nfibonacci(7) 를 구합니다\nfibonacci(6) 를 구합니다\nfibonacci(5) 를 구합니다\nfibonacci(4) 를 구합니다\nfibonacci(3) 를 구합니다\nfibonacci(2) 를 구합니다\nfibonacci(1) 를 구합니다\nfibonacci(2) 를 구합니다\nfibonacci(3) 를 구합니다\nfibonacci(2) 를 구합니다\nfibonacci(1) 를 구합니다\nfibonacci(4) 를 구합니다\nfibonacci(3) 를 구합니다\nfibonacci(2) 를 구합니다\nfibonacci(1) 를 구합니다\nfibonacci(2) 를 구합니다\nfibonacci(5) 를 구합니다\nfibonacci(4) 를 구합니다\nfibonacci(3) 를 구합니다\nfibonacci(2) 를 구합니다\nfibonacci(1) 를 구합니다\nfibonacci(2) 를 구합니다\nfibonacci(3) 를 구합니다\nfibonacci(2) 를 구합니다\nfibonacci(1) 를 구합니다\nfibonacci(6) 를 구합니다\nfibonacci(5) 를 구합니다\nfibonacci(4) 를 구합니다\nfibonacci(3) 를 구합니다\nfibonacci(2) 를 구합니다\nfibonacci(1) 를 구합니다\nfibonacci(2) 를 구합니다\nfibonacci(3) 를 구합니다\nfibonacci(2) 를 구합니다\nfibonacci(1) 를 구합니다\nfibonacci(4) 를 구합니다\nfibonacci(3) 를 구합니다\nfibonacci(2) 를 구합니다\nfibonacci(1) 를 구합니다\nfibonacci(2) 를 구합니다\nfibonacci(7) 를 구합니다\nfibonacci(6) 를 구합니다\nfibonacci(5) 를 구합니다\nfibonacci(4) 를 구합니다\nfibonacci(3) 를 구합니다\nfibonacci(2) 를 구합니다\nfibonacci(1) 를 구합니다\nfibonacci(2) 를 구합니다\nfibonacci(3) 를 구합니다\nfibonacci(2) 를 구합니다\nfibonacci(1) 를 구합니다\nfibonacci(4) 를 구합니다\nfibonacci(3) 를 구합니다\nfibonacci(2) 를 구합니다\nfibonacci(1) 를 구합니다\nfibonacci(2) 를 구합니다\nfibonacci(5) 를 구합니다\nfibonacci(4) 를 구합니다\nfibonacci(3) 를 구합니다\nfibonacci(2) 를 구합니다\nfibonacci(1) 를 구합니다\nfibonacci(2) 를 구합니다\nfibonacci(3) 를 구합니다\nfibonacci(2) 를 구합니다\nfibonacci(1) 를 구합니다\nfibonacci(8) 를 구합니다\nfibonacci(7) 를 구합니다\nfibonacci(6) 를 구합니다\nfibonacci(5) 를 구합니다\nfibonacci(4) 를 구합니다\nfibonacci(3) 를 구합니다\nfibonacci(2) 를 구합니다\nfibonacci(1) 를 구합니다\nfibonacci(2) 를 구합니다\nfibonacci(3) 를 구합니다\nfibonacci(2) 를 구합니다\nfibonacci(1) 를 구합니다\nfibonacci(4) 를 구합니다\nfibonacci(3) 를 구합니다\nfibonacci(2) 를 구합니다\nfibonacci(1) 를 구합니다\nfibonacci(2) 를 구합니다\nfibonacci(5) 를 구합니다\nfibonacci(4) 를 구합니다\nfibonacci(3) 를 구합니다\nfibonacci(2) 를 구합니다\nfibonacci(1) 를 구합니다\nfibonacci(2) 를 구합니다\nfibonacci(3) 를 구합니다\nfibonacci(2) 를 구합니다\nfibonacci(1) 를 구합니다\nfibonacci(6) 를 구합니다\nfibonacci(5) 를 구합니다\nfibonacci(4) 를 구합니다\nfibonacci(3) 를 구합니다\nfibonacci(2) 를 구합니다\nfibonacci(1) 를 구합니다\nfibonacci(2) 를 구합니다\nfibonacci(3) 를 구합니다\nfibonacci(2) 를 구합니다\nfibonacci(1) 를 구합니다\nfibonacci(4) 를 구합니다\nfibonacci(3) 를 구합니다\nfibonacci(2) 를 구합니다\nfibonacci(1) 를 구합니다\nfibonacci(2) 를 구합니다\n-------\nfibonacci(10) 계산에 활용된 덧샘 횟수는 109번 입니다\n"
     ]
    }
   ],
   "source": [
    "\n",
    "# (2) Fibonacci 를 계산하는데 활용된 덧샘 횟수를 계산하기\n",
    "\n",
    "counter=0 \n",
    "\n",
    "def fibonacci_with_counter(n):\n",
    "    print(\"fibonacci({}) 를 구합니다\".format(n))\n",
    "    \n",
    "    # 피보나치 계산 횟수 +1  \n",
    "    # global :  함수 외부에 선언된 변수 사용. 파이썬에만 있는 기능. \n",
    "    # global 선언 안할 시 W0621:Redefining name 'counter' from outer scope OR\n",
    "    # E0602: Indefined variable 'counter' 같은 Error 가 뜬다.\n",
    "    global counter \n",
    "    counter+=1 \n",
    "    \n",
    "    # 피보나치 수를 구한다.\n",
    "    if n==1 or n==2:\n",
    "        return 1\n",
    "    else:\n",
    "        return fibonacci_with_counter(n-1)+fibonacci_with_counter(n-2)\n",
    "\n",
    "# 함수를 호출한다.\n",
    "fibonacci_with_counter(10)\n",
    "print('-------')\n",
    "print(\"fibonacci(10) 계산에 활용된 덧샘 횟수는 {}번 입니다\".format(counter)) \n"
   ]
  },
  {
   "cell_type": "code",
   "execution_count": 4,
   "metadata": {},
   "outputs": [
    {
     "output_type": "stream",
     "name": "stdout",
     "text": [
      "fibonacci(10): 55\nfibonacci(20): 6765\nfibonacci(35): 9227465\nfibonacci(40): 102334155\nfibonacci(50): 12586269025\n"
     ]
    }
   ],
   "source": [
    "# (3) Memoisation 사용 \n",
    "\n",
    "## memo 를 할 메모 변수를 만든다.\n",
    "dictionary={\n",
    "    1:1,\n",
    "    2:1\n",
    "}\n",
    "\n",
    "# 함수를 선언한다.\n",
    "def fibonacci_with_memo(n):\n",
    "    ## memo가 되어있으면 메모된 값을 반환 --> 계산을 하지 않으므로 속도가 빠르다.\n",
    "    if n in dictionary:\n",
    "        return(dictionary[n])\n",
    "    ## memo가 되어있지 않으면 값을 구함\n",
    "    else:\n",
    "        output=fibonacci_with_memo(n-1)+fibonacci_with_memo(n-2)\n",
    "        dictionary[n]=output\n",
    "        return dictionary[n]\n",
    "\n",
    "        \n",
    "# 함수를 호출한다\n",
    "print(\"fibonacci(10):\",fibonacci_with_memo(10))\n",
    "print(\"fibonacci(20):\",fibonacci_with_memo(20))\n",
    "print(\"fibonacci(35):\",fibonacci_with_memo(35))\n",
    "print(\"fibonacci(40):\",fibonacci_with_memo(40))\n",
    "print(\"fibonacci(50):\",fibonacci_with_memo(50))\n",
    "\n"
   ]
  },
  {
   "source": [
    "ㅇㅇㅇ# "
   ],
   "cell_type": "markdown",
   "metadata": {}
  },
  {
   "cell_type": "code",
   "execution_count": 45,
   "metadata": {},
   "outputs": [
    {
     "output_type": "stream",
     "name": "stdout",
     "text": [
      "[4, [5, 6]]\n4\n[1, 2, 3]\n7 3\n----------\n[1, 2, 3]\n[4, [5, 6]]\n[8, 9]\n<class 'int'>\ntrue\n0-------\n[[1, 2, 3], [4, [5, 6]], 7, [8, 9], 1, 2, 3]\n"
     ]
    }
   ],
   "source": [
    "# 문제를 풀기 위한 테스트\n",
    "ex=[[1,2,3],[4,[5,6]],7,[8,9]]\n",
    "print(ex[1])\n",
    "print(len(ex))\n",
    "ex_0=ex[0]\n",
    "print(ex_0)\n",
    "ex_2=ex[2]\n",
    "print(ex_2,len(ex_0))\n",
    "\n",
    "print('----------')\n",
    "\n",
    "for i in ex:\n",
    "    if isinstance(i,list):\n",
    "        print(i)\n",
    "print(type(ex[2]))\n",
    "if type(ex[1]==int):\n",
    "    print('true')\n",
    "print('0-------')\n",
    "ex+=[1,2,3]\n",
    "print(ex)\n",
    "\n",
    "\n"
   ]
  },
  {
   "cell_type": "code",
   "execution_count": 52,
   "metadata": {},
   "outputs": [
    {
     "output_type": "stream",
     "name": "stdout",
     "text": [
      "Original: [[1, 2, 3], [4, [5, 6]], 7, [8, 9]]\nTransfer: [1, 2, 3, 4, 5, 6, 7, 8, 9]\n"
     ]
    }
   ],
   "source": [
    "\n",
    "def flatten(data):\n",
    "    output=[]\n",
    "    for i in data:\n",
    "        if type(i)!= list:\n",
    "            output.append(i)\n",
    "        else :\n",
    "            #output.append(flatten(i)) \n",
    "            # --> output을 global 변수로 하고 이 코드를 사용하면 None 값이 안에 포함됨. 왜지?\n",
    "            output+=flatten(i) ## return한 새로운 output list가 상위 output list에 저장이 된다.\n",
    "            #flatten(i) 이렇게 하려면 global 변수로 해야한다.\n",
    "            \n",
    "    return output\n",
    "\n",
    "example=[[1,2,3],[4,[5,6]],7,[8,9]]\n",
    "\n",
    "print(\"Original:\",example)\n",
    "print(\"Transfer:\",flatten(example))\n",
    "\n",
    "            "
   ]
  },
  {
   "cell_type": "code",
   "execution_count": 51,
   "metadata": {},
   "outputs": [
    {
     "output_type": "stream",
     "name": "stdout",
     "text": [
      "Original: [[1, 2, 3], [4, [5, 6]], 7, [8, 9]]\nTransfer: [1, 2, 3, 4, 5, 6, 7, 8, 9]\n"
     ]
    }
   ],
   "source": [
    "\n",
    "# Glabap 변수로 output을 선언했을 때 코드.\n",
    "output=[]\n",
    "def flatten(data):\n",
    "    global output\n",
    "    for i in data:\n",
    "        if type(i)!= list:\n",
    "            output.append(i)\n",
    "        else :\n",
    "            flatten(i) \n",
    "            \n",
    "    #return output\n",
    "\n",
    "example=[[1,2,3],[4,[5,6]],7,[8,9]]\n",
    "\n",
    "print(\"Original:\",example)\n",
    "flatten(example)\n",
    "print(\"Transfer:\",output)"
   ]
  }
 ]
}