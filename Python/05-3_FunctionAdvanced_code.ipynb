{
 "metadata": {
  "language_info": {
   "codemirror_mode": {
    "name": "ipython",
    "version": 3
   },
   "file_extension": ".py",
   "mimetype": "text/x-python",
   "name": "python",
   "nbconvert_exporter": "python",
   "pygments_lexer": "ipython3",
   "version": "3.6.10-final"
  },
  "orig_nbformat": 2,
  "kernelspec": {
   "name": "python3",
   "display_name": "Python 3",
   "language": "python"
  }
 },
 "nbformat": 4,
 "nbformat_minor": 2,
 "cells": [
  {
   "cell_type": "code",
   "execution_count": 4,
   "metadata": {},
   "outputs": [
    {
     "output_type": "stream",
     "name": "stdout",
     "text": [
      "# 괄호가 없는 튜플의 값과 자료형 출력\ntuple_test: (10, 20, 30, 40)\ntype(tuple): <class 'tuple'>\n\n# 괄호가 없는 튜플을 활용한 할당\na: 10\nb: 20\nc: 30\n"
     ]
    }
   ],
   "source": [
    "## 괄호가 없는 튜플\n",
    "tuple_test=10,20,30,40\n",
    "print('# 괄호가 없는 튜플의 값과 자료형 출력')\n",
    "print(\"tuple_test:\",tuple_test)\n",
    "print(\"type(tuple):\",type(tuple_test))\n",
    "print()\n",
    "\n",
    "# 괄호가 없는 튜플을 활용\n",
    "a,b,c=10,20,30\n",
    "print(\"# 괄호가 없는 튜플을 활용한 할당\")\n",
    "print(\"a:\",a)\n",
    "print(\"b:\",b)\n",
    "print(\"c:\",c)\n",
    "\n"
   ]
  },
  {
   "cell_type": "code",
   "execution_count": 47,
   "metadata": {},
   "outputs": [
    {
     "output_type": "stream",
     "name": "stdout",
     "text": [
      "# 교환 전\na: 10\nb: 20\n\na: 20\nb: 10\n\na: 30\nb: 40\n------------------\n값 변경 전 a=30,b=40 (30, 40)\n값 변경 후 a=1,b=2 (30, 40)\n------------------\ntuple_test=(1,2): (1, 2)\ntuple_test=(3,4) (3, 4)\ntuple_test=(5,) (5,)\n"
     ]
    }
   ],
   "source": [
    "## 변수의 값을 교환하는 튜플\n",
    "a,b=10,20\n",
    "\n",
    "print(\"# 교환 전\")\n",
    "print(\"a:\",a)\n",
    "print(\"b:\",b)\n",
    "print()\n",
    "\n",
    "# 값을 교환한다.\n",
    "a,b=b,a\n",
    "\n",
    "print(\"a:\",a)\n",
    "print(\"b:\",b)\n",
    "print()\n",
    "a,b=30,40\n",
    "print(\"a:\",a)\n",
    "print(\"b:\",b)\n",
    "print('------------------')\n",
    "# 튜플 값을 변경해보자.\n",
    "tuple_test=(a,b) # a=30,b=40 으로 할당된 값이 tuple_test에 할당됨\n",
    "print(\"값 변경 전 a=30,b=40\",tuple_test)\n",
    "# a,b 값 변경\n",
    "a,b=1,2\n",
    "print(\"값 변경 후 a=1,b=2\",tuple_test) # a,b를 변경해도 이미 한번 할당된 튜플의 요소는 변경되지 않는다.\n",
    "print('------------------')\n",
    "# 이미 값이 할당되어있는 튜플에 다른 튜플을 넣어보자\n",
    "# 할당하는 튜플 자체는 변경이 가능한가..?\n",
    "tuple_test=(1,2)\n",
    "print(\"tuple_test=(1,2):\",tuple_test)\n",
    "tuple_test=(3,4)\n",
    "print(\"tuple_test=(3,4)\",tuple_test)\n",
    "tuple_test=(5,)\n",
    "print(\"tuple_test=(5,)\",tuple_test)\n",
    "\n"
   ]
  },
  {
   "cell_type": "code",
   "execution_count": 6,
   "metadata": {},
   "outputs": [
    {
     "output_type": "stream",
     "name": "stdout",
     "text": [
      "a: 10\nb: 20\n0번째 요소는 1입니다\n1번째 요소는 2입니다\n2번째 요소는 3입니다\n3번째 요소는 4입니다\n4번째 요소는 5입니다\n5번째 요소는 6입니다\na: 10\nb: 20\n0번째 요소는 1입니다\n1번째 요소는 2입니다\n2번째 요소는 3입니다\n3번째 요소는 4입니다\n4번째 요소는 5입니다\n5번째 요소는 6입니다\nx: 2\ny: 17\n"
     ]
    }
   ],
   "source": [
    "## 여러 개의 값을 리런하기\n",
    "## 괄호 없이 여러 값을 할당하는 것은 튜플로만 가능함.\n",
    "\n",
    "# 함수를 선언\n",
    "def test():\n",
    "    return (10,20)\n",
    "\n",
    "# 여러 개의 값을 린턴받는다\n",
    "a,b=test()\n",
    "\n",
    "# 출력한다\n",
    "print(\"a:\",a)\n",
    "print(\"b:\",b)\n",
    "\n",
    "## 튜플을 리턴하는 함수의 예\n",
    "\n",
    "# i 와 value는 괄호없는 튜플임\n",
    "for i,value in enumerate([1,2,3,4,5,6]):\n",
    "    print(\"{}번째 요소는 {}입니다\".format(i,value))\n",
    "\n",
    "\n",
    "    \n",
    "# 출력한다\n",
    "print(\"a:\",a)\n",
    "print(\"b:\",b)\n",
    "\n",
    "## 튜플을 리턴하는 함수의 예\n",
    "\n",
    "# i 와 value는 괄호없는 튜플임\n",
    "for i,value in enumerate([1,2,3,4,5,6]):\n",
    "    print(\"{}번째 요소는 {}입니다\".format(i,value))\n",
    "\n",
    "# divmod() 는 몫과 나머지를 구하는 함수 튜플을 리턴하는 함수임\n",
    "a,b=97,40\n",
    "x,y=divmod(a,b)\n",
    "print(\"x:\",x)\n",
    "print(\"y:\",y)"
   ]
  },
  {
   "cell_type": "code",
   "execution_count": null,
   "metadata": {},
   "outputs": [],
   "source": []
  }
 ]
}