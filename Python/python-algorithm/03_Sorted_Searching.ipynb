{
 "metadata": {
  "language_info": {
   "codemirror_mode": {
    "name": "ipython",
    "version": 3
   },
   "file_extension": ".py",
   "mimetype": "text/x-python",
   "name": "python",
   "nbconvert_exporter": "python",
   "pygments_lexer": "ipython3",
   "version": "3.7.1"
  },
  "orig_nbformat": 2,
  "kernelspec": {
   "name": "python371jvsc74a57bd077107057ecfefed4732737284844f7cb8fc4e57c4439241075d49dbc9d6314e4",
   "display_name": "Python 3.7.1 64-bit ('base': conda)"
  }
 },
 "nbformat": 4,
 "nbformat_minor": 2,
 "cells": [
  {
   "source": [
    "# PART3. SORT & SEARCHING\n",
    "\n",
    "## PYTHON LIST의 정렬\n",
    "\n",
    "(1) sorted()\n",
    "\n",
    "    - 내장함수 (built-in function)\n",
    "    - 정렬된 새로운 리스트를 얻어냄\n",
    "    \n",
    "(2) sort()\n",
    "\n",
    "    - list의 메서드(method)\n",
    "    - 해당 리스트를 정렬함\n",
    "    - 원래 list 자체가 정렬된댜.\n",
    "\n",
    "## function 과  method 의 차이는?\n",
    "- function : class 와 상관없이 독립적임\n",
    "- method : class & object와 연관되어있음. class 내에 선언되어있는 함수.\n"
   ],
   "cell_type": "markdown",
   "metadata": {}
  },
  {
   "cell_type": "code",
   "execution_count": 13,
   "metadata": {},
   "outputs": [
    {
     "output_type": "stream",
     "name": "stdout",
     "text": [
      "['xyz', 'abcd', 'spam']\n['xyz', 'spam', 'abcd']\n"
     ]
    }
   ],
   "source": [
    "# 문자열로 이루어진 리스트에서 문자열 숭서로 정렬하려면,\n",
    "# 정렬에 이용할 수 있는 key를 지정.\n",
    "# 문자열로 이루어진 list의 경우 사전 순서로 정렬이 됨. (대문자>소문자))\n",
    "\n",
    "L1=['abcd','xyz','spam']\n",
    "print(sorted(L1,key=lambda x:len(x)))\n",
    "L2=['spam','xyz','abcd']\n",
    "print(sorted(L2,key=lambda x:len(x)))\n",
    "\n"
   ]
  },
  {
   "cell_type": "code",
   "execution_count": 27,
   "metadata": {},
   "outputs": [
    {
     "output_type": "stream",
     "name": "stdout",
     "text": [
      "[{'name': 'sora', 'score': 99}, {'name': 'taeng', 'score': 99}]\n[{'name': 'kang', 'score': 95}, {'name': 'kong', 'score': 90}, {'name': 'song', 'score': 50}]\n"
     ]
    }
   ],
   "source": [
    "# key를 지정하는 또 다른 예\n",
    "L=[{'name':'taeng','score':99},\n",
    "{'name':'sora','score':99}]\n",
    "L.sort(key=lambda x:x['name'])\n",
    "print(L)\n",
    "L2=[{'name':'kong','score':90},\n",
    "{'name':'kang','score':95},\n",
    "{'name':'song','score':50}]\n",
    "L2.sort(key=lambda x:x['score'],reverse=True) # score 점수 높은 순으로 정렬\n",
    "print(L2)\n"
   ]
  },
  {
   "cell_type": "code",
   "execution_count": 32,
   "metadata": {},
   "outputs": [
    {
     "output_type": "stream",
     "name": "stdout",
     "text": [
      "['abc', 'spam', 'Spam', 'zkang']\n"
     ]
    }
   ],
   "source": [
    "# 대소문자 구별을 무시하고 알파벳 순서에 따라 정렬하려면??\n",
    "## 대문자로 또는 소문자로 모두 변경한다.\n",
    "L=['abc','zkang','spam','Spam']\n",
    "L.sort(key=lambda x:x.lower())\n",
    "print(L)"
   ]
  },
  {
   "source": [
    "- string.upper() : 대문자로 변경\n",
    "- string.lower() : 소문자로 변경\n",
    "- string.isupper() : 대문자인지 판별\n",
    "- strinf.islower(): 소문자인지 판별\n"
   ],
   "cell_type": "markdown",
   "metadata": {}
  },
  {
   "source": [
    "## 탐색 알고리즘 (1)-선형탐색(Linear Search)\n",
    "\n",
    "- 리스트의 길이에 비례하는 시간 소요됨 : O(n)\n",
    "- 최악의 경우 모든 리스트를 다 비교해보아야 함."
   ],
   "cell_type": "markdown",
   "metadata": {}
  },
  {
   "cell_type": "code",
   "execution_count": 36,
   "metadata": {},
   "outputs": [
    {
     "output_type": "stream",
     "name": "stdout",
     "text": [
      "2\n5\n-1\n"
     ]
    }
   ],
   "source": [
    "def linear_search(L,x):\n",
    "    i=0\n",
    "    while i<len(L) and L[i]!=x:\n",
    "        i+=1\n",
    "    if i<len(L): return i\n",
    "    else :return -1\n",
    "\n",
    "L=[1,2,3,6,7,8]\n",
    "x1=3\n",
    "x2=8\n",
    "x3=0\n",
    "print(linear_search(L,x1))\n",
    "print(linear_search(L,x2))\n",
    "print(linear_search(L,x3))\n"
   ]
  },
  {
   "source": [
    "## 탐색 알고리즘 (2)-이진탐색(Binary Search)\n",
    "- Divide and conquer\n",
    "- 한 번 비교가 일어날 때마다 리스트를 반씩 줄임.\n",
    "- O(logn)\n",
    "- 구현은 03_binarysort.py로 구현함."
   ],
   "cell_type": "markdown",
   "metadata": {}
  }
 ]
}