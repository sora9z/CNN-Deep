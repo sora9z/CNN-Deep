{
 "metadata": {
  "language_info": {
   "codemirror_mode": {
    "name": "ipython",
    "version": 3
   },
   "file_extension": ".py",
   "mimetype": "text/x-python",
   "name": "python",
   "nbconvert_exporter": "python",
   "pygments_lexer": "ipython3",
   "version": "3.7.1"
  },
  "orig_nbformat": 2,
  "kernelspec": {
   "name": "python371jvsc74a57bd077107057ecfefed4732737284844f7cb8fc4e57c4439241075d49dbc9d6314e4",
   "display_name": "Python 3.7.1 64-bit ('base': conda)"
  }
 },
 "nbformat": 4,
 "nbformat_minor": 2,
 "cells": [
  {
   "source": [
    "# PROGRAMMERS - PART4 RECURSIVE ALROTIGHM\n",
    "## Recursive algorithm - 기초\n",
    "- 재귀 알고리즘은 알고리즘의 이름이 아니라 '성질' 이다\n",
    "- 같은 알고리즘을 반복적으로 적용함으로써 풀어내는 방법\n",
    "ex ) sum(n)=sum(n-1)+n\n",
    "- 재귀알고리즘 에서는 종결조건이 중요하다. (Trivial case)\n",
    "\n",
    "- 재귀함수(Recursive function)이란?\n",
    "    - 하나의 함수에서 자신을 다시 호출하여 작업을 수행하는 것.\n",
    "    - 생각보다 많은 종류의 문제가 재귀적으로 해결이 가능하다. (Recursively)\n",
    "    - ex ) Binary Tree \n",
    "        - Tree 탐색 : 10을 찾으시오 --> 재귀적인 방법으로 이용 가능함.\n",
    "\n",
    "## Recursive function을 호출할 때는 종결조건이 매우 중요하다!! \n",
    "- 인자로 주어진 n이 특정 조건일 경우--어떠한 처리 , 아닐 경우 -- 재귀 처리\n",
    "        \n"
   ],
   "cell_type": "markdown",
   "metadata": {}
  },
  {
   "cell_type": "code",
   "execution_count": 11,
   "metadata": {
    "tags": []
   },
   "outputs": [
    {
     "output_type": "stream",
     "name": "stdout",
     "text": [
      "0.5566554069519043\n"
     ]
    }
   ],
   "source": [
    "# Ex 1) 자연수의 합 구하기\n",
    "# 1~n 까지의 자연수의 합을 구하시오\n",
    "# s=1+sum(n-1)\n",
    "\n",
    "## Solution 1 - recursive version\n",
    "import time\n",
    "k=2000\n",
    "\n",
    "\n",
    "def summation(n):\n",
    "    if n <=1:     ## Trivial case\n",
    "        return 1 \n",
    "    else : \n",
    "        return n+summation(n-1) ## if thet isn't n<=1 condition, it'll go to - limt\n",
    "\n",
    "st=time.time()\n",
    "for i in range(k):\n",
    "    summation(i+1)\n",
    "elapse1=time.time()-st\n",
    "print(elapse1)\n",
    "\n",
    "    \n"
   ]
  },
  {
   "source": [],
   "cell_type": "markdown",
   "metadata": {}
  },
  {
   "cell_type": "code",
   "execution_count": 12,
   "metadata": {},
   "outputs": [
    {
     "output_type": "stream",
     "name": "stdout",
     "text": [
      "0.37777066230773926\n"
     ]
    }
   ],
   "source": [
    "## Solution 2 - iterative version\n",
    "def sum(n):\n",
    "    s=0\n",
    "    while n>=0:\n",
    "        s+=n\n",
    "        n-=1\n",
    "    return s\n",
    "st2=time.time()\n",
    "for i in range(k):\n",
    "\n",
    "    sum(i+1)\n",
    "elapse2=time.time()-st2\n",
    "print(elapse2)"
   ]
  },
  {
   "source": [
    "## Solution 3 - Use mathematical formulars\n",
    "\n",
    "def sum(n):\n",
    "    return n*(n+1)//2\n",
    "\n",
    "st3=time.time()\n",
    "\n",
    "for i in range(k):\n",
    "    sum(i+1)\n",
    "elapse3=time.time()-st3\n",
    "print(\"{0:f}\".format(elapse3))\n"
   ],
   "cell_type": "code",
   "metadata": {},
   "execution_count": 13,
   "outputs": [
    {
     "output_type": "stream",
     "name": "stdout",
     "text": [
      "0.001992\n"
     ]
    }
   ]
  },
  {
   "source": [],
   "cell_type": "markdown",
   "metadata": {}
  },
  {
   "cell_type": "code",
   "execution_count": 15,
   "metadata": {},
   "outputs": [
    {
     "output_type": "stream",
     "name": "stdout",
     "text": [
      "elapse 1 : 0.556655  elapse 2 : 0.377771 elapse 3: 0.001992\n"
     ]
    }
   ],
   "source": [
    "print('elapse 1 : {0:f}  elapse 2 : {1:f} elapse 3: {2:f}'.format(elapse1,elapse2,elapse3))"
   ]
  },
  {
   "source": [
    "## Solution 1, 2 3 효률 비교\n",
    "- Solution 1 : Resulsively version \n",
    "    - 복잡도 O(n) n에 따라서 함수 호출이 증가하므로, n에 비례하는 복잡도를 갖는다.\n",
    "    - 함수를 다시 호출하고 return을 반복하므로 효율성 떨어짐 \n",
    "    - 2000번 반복 시 elapse 1  : 0.556 sec 로 제일 오래걸림\n",
    "- Solution 2 : Iteratively version \n",
    "    - 복잡도 O(n) n에 비례하여 순환문 증가\n",
    "    - 하지만 Solution 1처럼 return을 반복하지는 않는다는 점에서 조금 더 효율적?\n",
    "    - 200번 반복 시 elapse 2 : 0.377 sec 로  Solution 1 보다 1.6배 빠름\n",
    "- Solution 3 : Mathmatical methode\n",
    "    - 복잡도 O(1) \n",
    "    - algorithm 이라기 보기 어렵지만, 복잡도 제일 낮음\n",
    "    - 2000번 반복 시 elapse 3 : 0.00199 로 제일 빠름\n",
    "\n",
    "## Alrotighem 고려 시 복잡도도 중요하지만 효율성 측면도 유념해야 한다 ##\n",
    "\n"
   ],
   "cell_type": "markdown",
   "metadata": {}
  },
  {
   "cell_type": "code",
   "execution_count": null,
   "metadata": {},
   "outputs": [],
   "source": []
  }
 ]
}