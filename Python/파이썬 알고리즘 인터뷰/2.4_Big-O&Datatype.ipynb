{
 "metadata": {
  "language_info": {
   "codemirror_mode": {
    "name": "ipython",
    "version": 3
   },
   "file_extension": ".py",
   "mimetype": "text/x-python",
   "name": "python",
   "nbconvert_exporter": "python",
   "pygments_lexer": "ipython3",
   "version": "3.7.1-final"
  },
  "orig_nbformat": 2,
  "kernelspec": {
   "name": "python3",
   "display_name": "Python 3",
   "language": "python"
  }
 },
 "nbformat": 4,
 "nbformat_minor": 2,
 "cells": [
  {
   "source": [
    "## n^2 과 2^n의 계산 결과 비교\n",
    "- n=5부터 2^n이 커짐\n",
    "- n=15에서 약 145배의 차이가 나며, 이 차이는 n이 커질수록 커진다\n",
    "- n^2 보다 2^n의 복잡도가 매우 크므로 혼동이 없더록 주의해야 한다. "
   ],
   "cell_type": "markdown",
   "metadata": {}
  },
  {
   "cell_type": "code",
   "execution_count": 13,
   "metadata": {},
   "outputs": [
    {
     "output_type": "stream",
     "name": "stdout",
     "text": [
      "1^2=1 , 2^1=2, 2^n/n^n Ratio: 2.0\n2^2=4 , 2^2=4, 2^n/n^n Ratio: 1.0\n3^2=9 , 2^3=8, 2^n/n^n Ratio: 0.9\n4^2=16 , 2^4=16, 2^n/n^n Ratio: 1.0\n5^2=25 , 2^5=32, 2^n/n^n Ratio: 1.3\n6^2=36 , 2^6=64, 2^n/n^n Ratio: 1.8\n7^2=49 , 2^7=128, 2^n/n^n Ratio: 2.6\n8^2=64 , 2^8=256, 2^n/n^n Ratio: 4.0\n9^2=81 , 2^9=512, 2^n/n^n Ratio: 6.3\n10^2=100 , 2^10=1024, 2^n/n^n Ratio: 10.2\n11^2=121 , 2^11=2048, 2^n/n^n Ratio: 16.9\n12^2=144 , 2^12=4096, 2^n/n^n Ratio: 28.4\n13^2=169 , 2^13=8192, 2^n/n^n Ratio: 48.5\n14^2=196 , 2^14=16384, 2^n/n^n Ratio: 83.6\n15^2=225 , 2^15=32768, 2^n/n^n Ratio: 145.6\n"
     ]
    }
   ],
   "source": [
    "for n in range(1,15+1):\n",
    "    a=n**2 # n의 제곱\n",
    "    b=2**n # 2의 배수\n",
    "    print(\"{}^2={} , 2^{}={}, 2^n/n^n Ratio: {}\".format(n,a,n,b,round(b/a,1)))\n"
   ]
  },
  {
   "cell_type": "code",
   "execution_count": null,
   "metadata": {},
   "outputs": [],
   "source": []
  }
 ]
}