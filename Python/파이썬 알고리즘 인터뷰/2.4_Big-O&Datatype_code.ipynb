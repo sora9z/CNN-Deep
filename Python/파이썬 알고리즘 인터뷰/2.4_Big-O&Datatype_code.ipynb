{
 "metadata": {
  "language_info": {
   "codemirror_mode": {
    "name": "ipython",
    "version": 3
   },
   "file_extension": ".py",
   "mimetype": "text/x-python",
   "name": "python",
   "nbconvert_exporter": "python",
   "pygments_lexer": "ipython3",
   "version": "3.7.1-final"
  },
  "orig_nbformat": 2,
  "kernelspec": {
   "name": "python3",
   "display_name": "Python 3",
   "language": "python"
  }
 },
 "nbformat": 4,
 "nbformat_minor": 2,
 "cells": [
  {
   "source": [
    "## 1. n^2 과 2^n의 계산 결과 비교\n",
    "- n=5부터 2^n이 커짐\n",
    "- n=15에서 약 145배의 차이가 나며, 이 차이는 n이 커질수록 커진다\n",
    "- n^2 보다 2^n의 복잡도가 매우 크므로 혼동이 없더록 주의해야 한다. "
   ],
   "cell_type": "markdown",
   "metadata": {}
  },
  {
   "cell_type": "code",
   "execution_count": 13,
   "metadata": {},
   "outputs": [
    {
     "output_type": "stream",
     "name": "stdout",
     "text": [
      "1^2=1 , 2^1=2, 2^n/n^n Ratio: 2.0\n2^2=4 , 2^2=4, 2^n/n^n Ratio: 1.0\n3^2=9 , 2^3=8, 2^n/n^n Ratio: 0.9\n4^2=16 , 2^4=16, 2^n/n^n Ratio: 1.0\n5^2=25 , 2^5=32, 2^n/n^n Ratio: 1.3\n6^2=36 , 2^6=64, 2^n/n^n Ratio: 1.8\n7^2=49 , 2^7=128, 2^n/n^n Ratio: 2.6\n8^2=64 , 2^8=256, 2^n/n^n Ratio: 4.0\n9^2=81 , 2^9=512, 2^n/n^n Ratio: 6.3\n10^2=100 , 2^10=1024, 2^n/n^n Ratio: 10.2\n11^2=121 , 2^11=2048, 2^n/n^n Ratio: 16.9\n12^2=144 , 2^12=4096, 2^n/n^n Ratio: 28.4\n13^2=169 , 2^13=8192, 2^n/n^n Ratio: 48.5\n14^2=196 , 2^14=16384, 2^n/n^n Ratio: 83.6\n15^2=225 , 2^15=32768, 2^n/n^n Ratio: 145.6\n"
     ]
    }
   ],
   "source": [
    "for n in range(1,15+1):\n",
    "    a=n**2 # n의 제곱\n",
    "    b=2**n # 2의 배수\n",
    "    print(\"{}^2={} , 2^{}={}, 2^n/n^n Ratio: {}\".format(n,a,n,b,round(b/a,1)))\n"
   ]
  },
  {
   "source": [
    "# 2. str이 불변 sequence 자료형 임을 확인"
   ],
   "cell_type": "markdown",
   "metadata": {}
  },
  {
   "cell_type": "code",
   "execution_count": 2,
   "metadata": {},
   "outputs": [
    {
     "output_type": "execute_result",
     "data": {
      "text/plain": [
       "str"
      ]
     },
     "metadata": {},
     "execution_count": 2
    }
   ],
   "source": [
    "# a에 str타입인 asb를 할당하고 str타입인 def를 다시 할당한다.\n",
    "# 변수 a는 다른 str 타입인 def를 다시 참조할 뿐 실제로 abc, def는 변경된 적 없다.\n",
    "a='abc' # 변수 a에 str 타입 abc 할당\n",
    "a='def' # 변수 a에 str 차입 def 할당\n",
    "type(a)"
   ]
  },
  {
   "cell_type": "code",
   "execution_count": 5,
   "metadata": {},
   "outputs": [
    {
     "output_type": "stream",
     "name": "stdout",
     "text": [
      "1814527281616\n1814527281616\n1814530003160\n1814530003160\n"
     ]
    }
   ],
   "source": [
    "# 'abc'와 'def'는 생성된 후에 변하지않고 메모리 어딘가에 저장되어있음.\n",
    "# 각각의 메모리 주소를 출력하여 a가 참조하고 있는 주소와 비교한다.\n",
    "# 변수 a는 참조하는 대상을 변경할 뿐 값을 변경하지 않는다.\n",
    "\n",
    "a='abc' # 변수 a에 str타입 abc할당\n",
    "print(id('abc')) # str abc가 저장되어있는 메모리 주소값 출력\n",
    "print(id(a)) # 변수 a가 참조하고있는 값의 주소값 출력\n",
    "a='def' # 변수 a에 str 타입의 def 할당\n",
    "print(id('def')) # def가 저장되어있는 메모리의 주소값 출력\n",
    "print(id(a)) # 변수 a가 참조하고있는 값의 주소값 출력"
   ]
  },
  {
   "cell_type": "code",
   "execution_count": 8,
   "metadata": {},
   "outputs": [
    {
     "output_type": "stream",
     "name": "stdout",
     "text": [
      "e\n"
     ]
    },
    {
     "output_type": "error",
     "ename": "TypeError",
     "evalue": "'str' object does not support item assignment",
     "traceback": [
      "\u001b[1;31m---------------------------------------------------------------------------\u001b[0m",
      "\u001b[1;31mTypeError\u001b[0m                                 Traceback (most recent call last)",
      "\u001b[1;32m<ipython-input-8-8f62b822cb1d>\u001b[0m in \u001b[0;36m<module>\u001b[1;34m\u001b[0m\n\u001b[0;32m      1\u001b[0m \u001b[1;31m# a가 참조하고있는  str의 값을 변경 시도\u001b[0m\u001b[1;33m\u001b[0m\u001b[1;33m\u001b[0m\u001b[1;33m\u001b[0m\u001b[0m\n\u001b[0;32m      2\u001b[0m \u001b[0mprint\u001b[0m\u001b[1;33m(\u001b[0m\u001b[0ma\u001b[0m\u001b[1;33m[\u001b[0m\u001b[1;36m1\u001b[0m\u001b[1;33m]\u001b[0m\u001b[1;33m)\u001b[0m\u001b[1;33m\u001b[0m\u001b[1;33m\u001b[0m\u001b[0m\n\u001b[1;32m----> 3\u001b[1;33m \u001b[0ma\u001b[0m\u001b[1;33m[\u001b[0m\u001b[1;36m1\u001b[0m\u001b[1;33m]\u001b[0m\u001b[1;33m=\u001b[0m\u001b[1;34m'd'\u001b[0m \u001b[1;31m# a[1] 이 참조하는 값인 e를 d로 바꾼다.a\u001b[0m\u001b[1;33m\u001b[0m\u001b[1;33m\u001b[0m\u001b[0m\n\u001b[0m",
      "\u001b[1;31mTypeError\u001b[0m: 'str' object does not support item assignment"
     ]
    }
   ],
   "source": [
    "# a가 참조하고있는  str의 값을 변경 시도\n",
    "print(a[1])\n",
    "a[1]='d' # a[1] 이 참조하는 값인 e를 d로 바꾼다.\n",
    "\n",
    "# 'str' object does not support item assignmetn Error \n"
   ]
  }
 ]
}