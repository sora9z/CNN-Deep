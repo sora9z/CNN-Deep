{
 "metadata": {
  "language_info": {
   "codemirror_mode": {
    "name": "ipython",
    "version": 3
   },
   "file_extension": ".py",
   "mimetype": "text/x-python",
   "name": "python",
   "nbconvert_exporter": "python",
   "pygments_lexer": "ipython3",
   "version": "3.6.10"
  },
  "orig_nbformat": 2,
  "kernelspec": {
   "name": "python3610jvsc74a57bd0cd611deae2f39ac3c8cd4a9874d76c06eda9b6eaba69760e6b49bdda116ee039",
   "display_name": "Python 3.6.10 64-bit ('TF1': conda)"
  }
 },
 "nbformat": 4,
 "nbformat_minor": 2,
 "cells": [
  {
   "source": [
    "리트코드 125.Valid-palindrome (https://leetcode.com/problems/valid-palindrome/)\n",
    "## Q.Given a string, determin if it is a palindrome, considering only alphanumeric characters and ignoring cases.\n",
    "\n",
    "Example 1:\n",
    "\n",
    "    input : s= \"A man, a plan, a canal: Panama\"\n",
    "\n",
    "    output : true\n",
    "    \n",
    "    Explanation: \"amanaplanacanalpanama\" is a palindroma.\n",
    "\n",
    "\n",
    "Example 2:\n",
    "\n",
    "    input : s= \"race a car\"\n",
    "\n",
    "    output : false\n",
    "\n",
    "    Explanation: \"raeacar\" is not a plindrome.\n",
    "    "
   ],
   "cell_type": "markdown",
   "metadata": {}
  },
  {
   "cell_type": "code",
   "execution_count": 55,
   "metadata": {},
   "outputs": [
    {
     "output_type": "stream",
     "name": "stdout",
     "text": [
      "<class 'list'>\nNone\n['a', 'm', 'a', 'n', 'a', 'p', 'l', 'a', 'n', 'a', 'c', 'a', 'n', 'a', 'l', 'p', 'a', 'n', 'a', 'm', 'a']\nThe string is palindrome\nThe string is not palindrome\n"
     ]
    }
   ],
   "source": [
    "# 첫 번째 풀이 (Do it myself)\n",
    "\n",
    "sort_alphabet=lambda x:x.isalpha()\n",
    "\n",
    "input_ex1=\"A man, a plan, a canal: Panama\"\n",
    "input_ex2=\"race a car\"\n",
    "\n",
    "# change capital letter to small letter\n",
    "input_ex1=input_ex1.lower()\n",
    "input_ex2=input_ex2.lower()\n",
    "\n",
    "# remove space and non-alphabetic characters\n",
    "output_ex1=list(filter(sort_alphabet,input_ex1))\n",
    "output_ex2=list(filter(sort_alphabet,input_ex2))\n",
    "print(type(output_ex1)) # check the result\n",
    "\n",
    "# reverse two of list for compare with origin list\n",
    "print(output_ex1.reverse()) # Why reverse() methode doesen't works? :(\n",
    "output_ex1_reverse=output_ex1[::-1] # 전체 범위에서 -1 step 으로 slicing \n",
    "print(output_ex1_reverse) # chexk the result II\n",
    "output_ex2_reverse=output_ex2[::-1]\n",
    "\n",
    "def find_palindrome(origin_list,reversed_list): # I want to try this function using by lambda and map later\n",
    "    if origin_list==reversed_list:\n",
    "        print(\"The string is palindrome\")\n",
    "    else : print(\"The string is not palindrome\")\n",
    "\n",
    "find_palindrome(output_ex1,output_ex1_reverse)\n",
    "find_palindrome(output_ex2,output_ex2_reverse)\n",
    "\n",
    "\n",
    "# I think this code is toooo long and complexity\n",
    "# I reverse the list but it's unnecessary"
   ]
  },
  {
   "cell_type": "code",
   "execution_count": 40,
   "metadata": {},
   "outputs": [
    {
     "output_type": "stream",
     "name": "stdout",
     "text": [
      "True\nFalse\n0.00100207\n"
     ]
    }
   ],
   "source": [
    "# 두 번째 문제풀이 - 책 풀이\n",
    "## 1. 리스트로 변환\n",
    "## 제약 조건 : 대문자, 소문자 구별X , 영문자, 소문자만을 대상으로 함\n",
    "\n",
    "import time\n",
    "def isPalindrome(s:str)-> bool:\n",
    "    strs=[]\n",
    "    # Pretreatment\n",
    "    for char in s:\n",
    "        if char.isalnum(): # Check id \"chat\" is alphabet or number\n",
    "            strs.append(char.lower()) # Change capital letter to small letter\n",
    "    # Check palindrome\n",
    "    while len(strs)>1: \n",
    "        if strs.pop(0)!=strs.pop():\n",
    "            return False\n",
    "    return True\n",
    "\n",
    "\n",
    "str1=\"A man, a plan, a canal: Panama\"\n",
    "str2=\"race a caddr\"\n",
    "\n",
    "ts=time.time()\n",
    "print(isPalindrome(str1))\n",
    "print(isPalindrome(str2))\n",
    "elapsed=time.time()-ts\n",
    "print('%.8f'%elapsed)\n",
    "\n",
    "   \n"
   ]
  },
  {
   "cell_type": "code",
   "execution_count": 43,
   "metadata": {},
   "outputs": [
    {
     "output_type": "stream",
     "name": "stdout",
     "text": [
      "<class 'str'> True\n<class 'str'> False\n0.00000000\n"
     ]
    }
   ],
   "source": [
    "# 두 번째 문제풀이 - 책 풀이\n",
    "## 2. 데크 자료형을 이용한 최적화--속도 up\n",
    "## 제약 조건 : 대문자, 소문자 구별X , 영문자, 소문자만을 대상으로 함\n",
    "### pop(0)은 O(n) 이고 데크의 popleft()는 O(1)임\n",
    "import collections\n",
    "\n",
    "def isPalindrome(s:str)->bool:\n",
    "    # Declare a Deque data type\n",
    "    strs: Deque=collections.deque()\n",
    "\n",
    "    for char in s :\n",
    "        if char.isalnum():\n",
    "            strs.append(char.lower())\n",
    "    while len(strs)>1:\n",
    "        if strs.popleft()!=strs.pop():\n",
    "            return False\n",
    "\n",
    "    return True\n",
    "\n",
    "str1=\"A man, a plan, a canal: Panama\"\n",
    "str2=\"race a caddr\"\n",
    "\n",
    "ts=time.time()\n",
    "print(type(str1),isPalindrome(str1))\n",
    "print(type(str1),isPalindrome(str2))\n",
    "elapsed=time.time()-ts\n",
    "print('%.8f'%elapsed)\n"
   ]
  },
  {
   "cell_type": "code",
   "execution_count": 46,
   "metadata": {},
   "outputs": [
    {
     "output_type": "stream",
     "name": "stdout",
     "text": [
      "<class 'str'> True\n<class 'str'> False\n0.00099015\n"
     ]
    }
   ],
   "source": [
    "# 두 번째 문제풀이 - 책 풀이\n",
    "## 3. 슬라이싱 이용 -- 속도 up up\n",
    "## 제약 조건 : 대문자, 소문자 구별X , 영문자, 소문자만을 대상으로 함\n",
    "\n",
    "def isPalindreme(s:str)->bool:\n",
    "    s=s.lower()\n",
    "    # Filtering unnecessary letter by using regular expression\n",
    "    s=re.sub('[^a-z0-9','',s)\n",
    "    return s==s[::-1] # slicing for reverse the list. use \"==\" not \"=\" because output dtype is bool\n",
    "\n",
    "\n",
    "str1=\"A man, a plan, a canal: Panama\"\n",
    "str2=\"race a caddr\"\n",
    "\n",
    "ts=time.time()\n",
    "print(type(str1),isPalindrome(str1))\n",
    "print(type(str1),isPalindrome(str2))\n",
    "elapsed=time.time()-ts\n",
    "print('%.8f'%elapsed)\n"
   ]
  },
  {
   "source": [
    "## 문자열 슬라이싱\n",
    "- 파이썬의 문자열 슬라이싱은 매우 빠름.\n",
    "- 위치를 지정하면 해당 위치의 배열 포인터를 얻게 되며 이를 통해 연결된\n",
    "   객체를 찾아 실제 값을 찾아냄--> 매우 빠름.\n",
    "- 문자열을 조작할 때는 항상 슬라이싱을 우선으로 사용하는 거싱 유리함.\n",
    "- isalnum()은 모든 문자를 일일이 점검한다.\n",
    "- 파이썬은 a=b 와 같은 형태--> 할당이 아닌 a가 b를 참조하는 형태임.\n",
    "- 참조가 아닌 값을 복사하기 위해 [:]를 사용할 수 있음. (Python Way)\n",
    "\n",
    "## 정규식이란 (Regular Expression)?\n",
    "- 정규표현식 은 특정한 규칙을 가진 문자열의 집합을 표현하는데 사용하는 형식 언어이다.\n",
    "복잡한 문자열의 검색과 치환을 위해 사용되며 , python 뿐만 아니라 문자열을 처리하는 모든 곳에서 사용된다\n",
    "\n",
    "- re.sub('패턴','바꿀 문자열','문자열',바뀔 횟수))\n",
    "   - 바뀔횟수를 제외하면 전체 문자열을 바꿈\n",
    "   - ^는 제외. 부정을 의미함\n",
    "## 슬라이싱을 기준으로 한 파이썬 문자열 처리 실행시간\n",
    "- 슬라이스 : 0.499ms \n",
    "- 리스트 reverse() : 2.46ms\n",
    "- reversed()+join() : 2.49ms\n",
    "- for 반복 : 5.5ms\n",
    "- while 반복 : 9.4ms\n",
    "- 재귀 : 24.3ms"
   ],
   "cell_type": "markdown",
   "metadata": {}
  }
 ]
}