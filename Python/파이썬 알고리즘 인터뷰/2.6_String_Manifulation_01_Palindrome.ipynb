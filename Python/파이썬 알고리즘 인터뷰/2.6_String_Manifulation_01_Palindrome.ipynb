{
 "metadata": {
  "language_info": {
   "codemirror_mode": {
    "name": "ipython",
    "version": 3
   },
   "file_extension": ".py",
   "mimetype": "text/x-python",
   "name": "python",
   "nbconvert_exporter": "python",
   "pygments_lexer": "ipython3",
   "version": "3.7.1-final"
  },
  "orig_nbformat": 2,
  "kernelspec": {
   "name": "python3",
   "display_name": "Python 3",
   "language": "python"
  }
 },
 "nbformat": 4,
 "nbformat_minor": 2,
 "cells": [
  {
   "source": [
    "리트코드 125.Valid-palindrome (https://leetcode.com/problems/valid-palindrome/)\n",
    "## Q.Given a string, determin if it is a palindrome, considering only alphanumeric characters and ignoring cases.\n",
    "\n",
    "Example 1:\n",
    "\n",
    "    input : s= \"A man, a plan, a canal: Panama\"\n",
    "\n",
    "    output : true\n",
    "    \n",
    "    Explanation: \"amanaplanacanalpanama\" is a palindroma.\n",
    "\n",
    "\n",
    "Example 2:\n",
    "\n",
    "    input : s= \"race a car\"\n",
    "\n",
    "    output : false\n",
    "\n",
    "    Explanation: \"raeacar\" is not a plindrome.\n",
    "    "
   ],
   "cell_type": "markdown",
   "metadata": {}
  },
  {
   "cell_type": "code",
   "execution_count": 55,
   "metadata": {},
   "outputs": [
    {
     "output_type": "stream",
     "name": "stdout",
     "text": [
      "<class 'list'>\nNone\n['a', 'm', 'a', 'n', 'a', 'p', 'l', 'a', 'n', 'a', 'c', 'a', 'n', 'a', 'l', 'p', 'a', 'n', 'a', 'm', 'a']\nThe string is palindrome\nThe string is not palindrome\n"
     ]
    }
   ],
   "source": [
    "# 첫 번째 풀이 (Do it myself)\n",
    "\n",
    "sort_alphabet=lambda x:x.isalpha()\n",
    "\n",
    "input_ex1=\"A man, a plan, a canal: Panama\"\n",
    "input_ex2=\"race a car\"\n",
    "\n",
    "# change capital letter to small letter\n",
    "input_ex1=input_ex1.lower()\n",
    "input_ex2=input_ex2.lower()\n",
    "\n",
    "# remove space and non-alphabetic characters\n",
    "output_ex1=list(filter(sort_alphabet,input_ex1))\n",
    "output_ex2=list(filter(sort_alphabet,input_ex2))\n",
    "print(type(output_ex1)) # check the result\n",
    "\n",
    "# reverse two of list for compare with origin list\n",
    "print(output_ex1.reverse()) # Why reverse() methode doesen't works? :(\n",
    "output_ex1_reverse=output_ex1[::-1] # 전체 범위에서 -1 step 으로 slicing \n",
    "print(output_ex1_reverse) # chexk the result II\n",
    "output_ex2_reverse=output_ex2[::-1]\n",
    "\n",
    "def find_palindrome(origin_list,reversed_list): # I want to try this function using by lambda and map later\n",
    "    if origin_list==reversed_list:\n",
    "        print(\"The string is palindrome\")\n",
    "    else : print(\"The string is not palindrome\")\n",
    "\n",
    "find_palindrome(output_ex1,output_ex1_reverse)\n",
    "find_palindrome(output_ex2,output_ex2_reverse)\n",
    "\n",
    "\n",
    "# I think this code is toooo long and complexity"
   ]
  },
  {
   "cell_type": "code",
   "execution_count": null,
   "metadata": {},
   "outputs": [],
   "source": [
    "# 두 번째 문제풀이 - 책 풀이\n"
   ]
  }
 ]
}