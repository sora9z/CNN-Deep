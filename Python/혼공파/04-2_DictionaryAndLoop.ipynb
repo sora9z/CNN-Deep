{
 "metadata": {
  "language_info": {
   "codemirror_mode": {
    "name": "ipython",
    "version": 3
   },
   "file_extension": ".py",
   "mimetype": "text/x-python",
   "name": "python",
   "nbconvert_exporter": "python",
   "pygments_lexer": "ipython3",
   "version": "3.7.1-final"
  },
  "orig_nbformat": 2,
  "kernelspec": {
   "name": "python3",
   "display_name": "Python 3",
   "language": "python"
  }
 },
 "nbformat": 4,
 "nbformat_minor": 2,
 "cells": [
  {
   "source": [
    "# 04-2 딕셔너리와 반복문\n",
    "\n",
    "- Dictionary : Key를 기반으로 값을 저장\n",
    "\n",
    "|자료형||의미||가리키는 위치||선언 형식|\n",
    "|------|---------------|-----|-------|\n",
    "|리스트||인덱스를 기반으로 값을 저장||인덱스||변수=[]|\n",
    "|딕셔너리||키를 기반으로 값을 저장||키||변수={}|\n",
    "\n",
    "## 1. 딕셔너리 선언 및 딕셔너리 요소에 접근하기\n",
    "\n",
    "- 딕셔너리는 중괄호{}로 선언, '키:값' 형채를 쉼표(,)로 연결해서 만드다.\n",
    "- 키는 문자열,숫자,불 등으로 선언 가능.\n",
    "- 딕셔너리의 요소에 접근할 때는 리스트처럼 딕셔너리 뒤에 대괄호[]를 입력하고 내부에 인덱스처럼 키를 입력한다.\n",
    "- 딕션리의 값으로 리스트와 딕셔너리를 넣을 수 있다.\n",
    "- 값으로 리스트를 넣을 경우, 인덱스를 지전하여 리스트 만의 특정 값을 출력할 수도 있다.\n",
    "- 변수를 만들어 키로 사용 가능.\n"
   ],
   "cell_type": "markdown",
   "metadata": {}
  },
  {
   "cell_type": "code",
   "execution_count": 12,
   "metadata": {},
   "outputs": [
    {
     "output_type": "stream",
     "name": "stdout",
     "text": [
      "name: 7D 건조 망고\ntype: 당절임\ningredient: ['망고', '설탕', '메타중아황산나트륨', '치자황색소']\norigin: 필리핀\n1: 40\nFalse: 50\n\n------------------------------\nname: 8D 건조 망고\n------------------------------\n['망고', '설탕', '메타중아황산나트륨', '치자황색소']\n설탕\n------------------------------\n{'학생 이름': 'Sora kang', <class 'type'>: '학생'}\n"
     ]
    }
   ],
   "source": [
    "# 1. 딕셔너리선언 및 딕셔너리 요소에 접근하기.\n",
    "\n",
    "# 딕셔너리를 선언한다.\n",
    "dictionary={\n",
    "    \"name\":\"7D 건조 망고\", # 문자열을 카로 사용.\n",
    "    \"type\":\"당절임\",\n",
    "    \"ingredient\":[\"망고\",\"설탕\",\"메타중아황산나트륨\",\"치자황색소\"],\n",
    "    \"origin\":\"필리핀\",\n",
    "    1:40, # 숫자를 키로 사용.\n",
    "    False:50 # 불을 키로 사요.\n",
    "}\n",
    "\n",
    "# 출력한다.\n",
    "print(\"name:\",dictionary[\"name\"])\n",
    "print(\"type:\",dictionary[\"type\"])\n",
    "print(\"ingredient:\",dictionary[\"ingredient\"])\n",
    "print(\"origin:\",dictionary[\"origin\"])\n",
    "print(\"1:\",dictionary[1])\n",
    "print(\"False:\",dictionary[False])\n",
    "print()\n",
    "\n",
    "# 값을 변경한다.\n",
    "print('------------------------------')\n",
    "dictionary[\"name\"]=\"8D 건조 망고\"\n",
    "print(\"name:\",dictionary[\"name\"])\n",
    "\n",
    "# 리스트 안의 측정 값 출력\n",
    "print('------------------------------')\n",
    "print(dictionary[\"ingredient\"])\n",
    "print(dictionary[\"ingredient\"][1])\n",
    "\n",
    "# 변수를 key로 사용한다.\n",
    "print('------------------------------')\n",
    "sname=\"학생 이름\"\n",
    "dic_key={\n",
    "    sname:\"Sora kang\", ## 변수로 따로 만들지 않으면 NameError 라는 오류 발생.\n",
    "    type:\"학생\" ## type은 type() 이라는 함수가 기본 식별자로 있기 때문에 이것이 키로 들어가 오류를 내지 않는다.\n",
    "\n",
    "}\n",
    "print(dic_key)\n",
    "\n"
   ]
  },
  {
   "source": [
    "# 2. 딕셔너리에 값 추가/제거하기\n",
    "\n",
    "- 키를 기반으로 값을 입력. 딕셔너리[새로운 키]=새로운 값\n",
    "- 존재하는 키를 지정하고 값을 넣으면 기존의 값을 새로운 값으로 대치\n",
    "- del 키워드를 사용하여 특정 키를 지정하여 해당 요소 제거\n",
    "- KeyError 예외 : 존재하지 않는 키에 접근시 애러 발생"
   ],
   "cell_type": "markdown",
   "metadata": {}
  },
  {
   "cell_type": "code",
   "execution_count": 21,
   "metadata": {},
   "outputs": [
    {
     "output_type": "stream",
     "name": "stdout",
     "text": [
      "Before add element {}\nAfter elements added: {'name': 'new name', 'head': 'new mental', 'new body': 'new body'}\n----------------------------------\nBefore delete eleemts {'name': 'sora kang', 'type': 'Human'}\n{}\n"
     ]
    }
   ],
   "source": [
    "# 2-1. Add elements to a dictionary\n",
    "# Declare a empty dictionary\n",
    "dictionary={}\n",
    "\n",
    "# Print the dictionary before add elements\n",
    "print(\"Before add element\",dictionary)\n",
    "\n",
    "# Add element to the dictionary\n",
    "dictionary[\"name\"]=\"new name\"\n",
    "dictionary[\"head\"]=\"new mental\"\n",
    "dictionary[\"new body\"]=\"new body\"\n",
    "\n",
    "# Print the dictionary\n",
    "print(\"After elements added:\",dictionary)\n",
    "print(\"----------------------------------\")\n",
    "\n",
    " # 2-2 Delete elements in dictionary.\n",
    " # Declare a dictionary and enter values\n",
    "dictionary={\n",
    "     \"name\":\"sora kang\",\n",
    "     \"type\":\"Human\"\n",
    " }\n",
    " \n",
    "#  Check dictionary before delete elements.\n",
    "print(\"Before delete eleemts\",dictionary)\n",
    "\n",
    "# Delete elements in dictionary.\n",
    "del dictionary[\"name\"]\n",
    "del dictionary[\"type\"]\n",
    "# Check dictionary after delete elements.\n",
    "print(dictionary)\n"
   ]
  },
  {
   "source": [
    "# 3. 딕셔너리 내부에 키가 있는지 확인\n",
    "(1) in 키워드 사용</br>\n",
    "(2) get() 함수 : 딕셔너리의 내장함수로, 딕셔너리의 키로 값을 추출하며</br>\n",
    " 존재하지 않는 키에 접근할 경우 KeyError가 아닌 None을 리턴한다."
   ],
   "cell_type": "markdown",
   "metadata": {}
  },
  {
   "source": [
    "# 3 딕셔너리 내부에 키가 있는지 확인하기\n",
    "- in 키워드 사용\n",
    "    - 사용자로부터 접근하고자 하는 키를 입력받은 후, 존재하는 경우에만 접근하여 값을 출력\n",
    "- get() 함수 사용\n",
    "    - dictionary의 내장함수\n",
    "    - 키로 값을 추출하는 기능으로 존재하지 않는 키의 경우 None을 리턴한다.\n",
    "    "
   ],
   "cell_type": "markdown",
   "metadata": {}
  },
  {
   "cell_type": "code",
   "execution_count": 21,
   "metadata": {},
   "outputs": [
    {
     "output_type": "stream",
     "name": "stdout",
     "text": [
      "sora kang\n---------------------------------\nvalue None\nsora kang\nYou access a key that doesn't exist\n"
     ]
    }
   ],
   "source": [
    "# 3-1 Checking if key exists and accessing the values\n",
    "# Declare a dictionary\n",
    "dictionary={\n",
    "    \"name\":\"sora kang\",\n",
    "    \"age\":30,\n",
    "    \"Goal\":\"My gole is obtaining an information processing engineer license\",\n",
    "    \"contury\":\"South Korea\"\n",
    "}\n",
    "# Get an input from a user\n",
    "key=input(\"> Accessing Key:\")\n",
    "\n",
    "# Print \n",
    "if key in dictionary:\n",
    "    print(dictionary[key])\n",
    "else:\n",
    "    print(\"The key doesn't exists.\")\n",
    "print(\"---------------------------------\")\n",
    "\n",
    "# 3-2 Check it print None if key doesn't exist\n",
    "# Declare dictionary\n",
    "dictionary={\n",
    "    \"name\":\"sora kang\",\n",
    "    \"type\":\"human\",\n",
    "    \"feature\":[\"she is smart\",\"she love tae eun\",\"she is very good looking\",\"she is an deep learning developer\"],\n",
    "    \"contury\":\"korea\"\n",
    "}\n",
    "\n",
    "# Try to access a key that doesn't exist\n",
    "value=dictionary.get(\"a key that doesn't exist\")\n",
    "print(\"value\",value)\n",
    "value2=dictionary.get(\"name\")\n",
    "print(value2)\n",
    "\n",
    "# How to check \"None\"\n",
    "if value==None:\n",
    "    print(\"You access a key that doesn't exist\")\n",
    "\n"
   ]
  },
  {
   "source": [
    "# 4. For 반복문: 딕셔너리와 함께 사용\n",
    "- 딕셔너리 내부에 있는 키가 변수에 들어간다.\n",
    "```python\n",
    "for 키 변수 in 딕셔너리:\n",
    "```"
   ],
   "cell_type": "markdown",
   "metadata": {}
  },
  {
   "cell_type": "code",
   "execution_count": 22,
   "metadata": {},
   "outputs": [
    {
     "output_type": "stream",
     "name": "stdout",
     "text": [
      "name : sora kang\nCompany : Vessel Aerospace\nfeature : ['she is smart', 'she love tae eun', 'she is very good looking', 'she is an deep learning developer']\ncontury : korea\n"
     ]
    }
   ],
   "source": [
    "# 4. for loop and dictionary\n",
    "# Declare a dictionary\n",
    "dictionary={\n",
    "    \"name\":\"sora kang\",\n",
    "    \"Company\":\"Vessel Aerospace\",\n",
    "    \"feature\":[\"she is smart\",\"she love tae eun\",\"she is very good looking\",\"she is an deep learning developer\"],\n",
    "    \"contury\":\"korea\"\n",
    "}\n",
    "\n",
    "# Use for loop\n",
    "for key in dictionary:\n",
    "    # print\n",
    "    print(key,\":\",dictionary[key])\n"
   ]
  },
  {
   "source": [
    "# < 확인문제>"
   ],
   "cell_type": "markdown",
   "metadata": {}
  },
  {
   "cell_type": "code",
   "execution_count": 26,
   "metadata": {},
   "outputs": [
    {
     "output_type": "stream",
     "name": "stdout",
     "text": [
      "# My pets info\n반코 3살\n카카오 1살\n체다 1살\n본넷 1살\n"
     ]
    }
   ],
   "source": [
    "# Q1\n",
    "# Declare a dictionary\n",
    "pets=[\n",
    "    {\"name\":\"반코\",\"age\":3},\n",
    "    {\"name\":\"카카오\",\"age\":1},\n",
    "    {\"name\":\"체다\",\"age\":1},\n",
    "    {\"name\":\"본넷\",\"age\":1}\n",
    "]\n",
    "\n",
    "print(\"# My pets info\")\n",
    "for i in range(4):\n",
    "    name=pets[i][\"name\"]\n",
    "    age=pets[i][\"age\"]\n",
    "    print(name,str(age)+\"살\")\n"
   ]
  },
  {
   "cell_type": "code",
   "execution_count": 45,
   "metadata": {},
   "outputs": [
    {
     "output_type": "stream",
     "name": "stdout",
     "text": [
      "check numbers befor sort: [5, 9, 8, 2, 10, 7, 9, 2, 1, 6, 5, 6, 7, 8, 10, 8, 3, 0, 5, 0]\nsorted list [0, 0, 1, 2, 2, 3, 5, 5, 5, 6, 6, 7, 7, 8, 8, 8, 9, 9, 10, 10]\n--------------------------------------\n{0: 2, 1: 1, 2: 2, 3: 1, 5: 3, 6: 2, 7: 2, 8: 3, 9: 2, 10: 2}\n"
     ]
    }
   ],
   "source": [
    "# Q2 : numbers 내부에 들어 있는 숫자가 몇 번 등장하는지 출력\n",
    "# You can enter the numbers randomly\n",
    "import random\n",
    "numbers=[] \n",
    "counter={}\n",
    "count=0 \n",
    "for i in range(20):  # Enter 20 numbers from 0 to 10 in numbers list randomly\n",
    "    numbers.append(random.randint(0,10))"
   ]
  },
  {
   "cell_type": "code",
   "execution_count": 50,
   "metadata": {},
   "outputs": [
    {
     "output_type": "stream",
     "name": "stdout",
     "text": [
      "check numbers befor sort: [0, 0, 1, 2, 2, 3, 5, 5, 5, 6, 6, 7, 7, 8, 8, 8, 9, 9, 10, 10]\nsorted list [0, 0, 1, 2, 2, 3, 5, 5, 5, 6, 6, 7, 7, 8, 8, 8, 9, 9, 10, 10]\n--------------------------------------\n{0: 2, 1: 1, 2: 2, 3: 1, 5: 3, 6: 2, 7: 2, 8: 3, 9: 2, 10: 2}\n"
     ]
    }
   ],
   "source": [
    "# Sort numbers and check\n",
    "print(\"check numbers befor sort:\",numbers)\n",
    "numbers.sort()\n",
    "print(\"sorted list\",numbers)\n",
    "print(\"--------------------------------------\")\n",
    "# Count repeated numbers\n",
    "for number in numbers:\n",
    "    for i in numbers:\n",
    "        if number==i:\n",
    "            count+=1\n",
    "    counter[number]=count\n",
    "    count=0\n",
    "\n",
    "print(counter)   \n"
   ]
  },
  {
   "cell_type": "code",
   "execution_count": 105,
   "metadata": {},
   "outputs": [
    {
     "output_type": "stream",
     "name": "stdout",
     "text": [
      "name : knight\nlevel : 100\nsword : sword of fire\narmor : full plate\nskill : slice\nskill : double slice\nskill : sting\n"
     ]
    }
   ],
   "source": [
    "# Decleare a dictionary\n",
    "character={\n",
    "    \"name\":\"knight\",\n",
    "    \"level\":100,\n",
    "    \"items\":{\n",
    "        \"sword\":\"sword of fire\",\n",
    "        \"armor\":\"full plate\"\n",
    "    },\n",
    "    \"skill\":[\"slice\",\"double slice\",\"sting\"]\n",
    "}\n",
    "\n",
    "# Use for loop\n",
    "for key in character:\n",
    "    #print(type(character[key]))\n",
    "    if type(character[key]) is str or type(character[key]) is int: # if key type is str\n",
    "        print(key,\":\",character[key])    \n",
    "    elif type(character[key]) is dict:\n",
    "        for key2 in character[key]:\n",
    "            print(key2,\":\",character[key][key2])\n",
    "    elif type(character[key]) is list:\n",
    "        for value in character[key]:\n",
    "            print(key,\":\",value)"
   ]
  }
 ]
}