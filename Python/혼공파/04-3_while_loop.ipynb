{
 "metadata": {
  "language_info": {
   "codemirror_mode": {
    "name": "ipython",
    "version": 3
   },
   "file_extension": ".py",
   "mimetype": "text/x-python",
   "name": "python",
   "nbconvert_exporter": "python",
   "pygments_lexer": "ipython3",
   "version": "3.7.1-final"
  },
  "orig_nbformat": 2,
  "kernelspec": {
   "name": "python3",
   "display_name": "Python 3",
   "language": "python"
  }
 },
 "nbformat": 4,
 "nbformat_minor": 2,
 "cells": [
  {
   "source": [
    "# while 반복문 : 시간을 기반으로 반복하기\n",
    "- 유닉스 타임(Unix Time) : 세계 표준시(UTC)로, 1970년 1월 1일 0시 0분 0초를 기준으로 몇 초가 지났는지 정수로 나타낸 것.\n",
    "- 파이썬에서 유닉스타임 구할 때 \n",
    "```python\n",
    "import time\n",
    "time.time()\n",
    "```\n",
    "- 시간을 기반으로 조건을 걸 때는 while 반복문을 사용한다.\n",
    "- 유닉스 타임과 while 반복문을 조합하면 특정 시간동안 프로그램을 정지시킬 수 있다.\n",
    "- 아래 코드는 통신할 때 자주 사용하는 코드."
   ],
   "cell_type": "markdown",
   "metadata": {}
  },
  {
   "cell_type": "code",
   "execution_count": 4,
   "metadata": {
    "tags": []
   },
   "outputs": [
    {
     "output_type": "stream",
     "name": "stdout",
     "text": [
      "Repeated 18657071 times in 5seconds\n"
     ]
    }
   ],
   "source": [
    "# Repeat for 5 seconds \n",
    "# import time function\n",
    "import time\n",
    "\n",
    "# Declare a variable to save the number of iterations\n",
    "number=0 \n",
    "\n",
    "# Repeat for 5 seconds\n",
    "target_tick=time.time()+5\n",
    "while time.time()<target_tick:\n",
    "    number+=1\n",
    "\n",
    "# print\n",
    "print(\"Repeated {} times in 5seconds\".format(number))3"
   ]
  },
  {
   "source": [
    "# 확인 문제\n",
    "## 2. 각 리스트를 조합해 하나의 딕셔너리로 만드시오\n",
    "\n",
    "## 3. 1부터 숫자를 하나씩 증가시키면서 더하는 경우, 10000을 넘을 때는 몇 번째 더할 때인지 구하고 값도 출력하시오\n",
    "\n",
    "## 4. 1~100 까지의 숫자가 있을 때, 다음과 같이 계산할 경우 최대가 되는 경우는 어떤 숫자를 곱했을 때인가?\n",
    "- ### 1*99,2*98,3*97,.......98*2,99*1"
   ],
   "cell_type": "markdown",
   "metadata": {}
  },
  {
   "cell_type": "code",
   "execution_count": 6,
   "metadata": {},
   "outputs": [
    {
     "output_type": "stream",
     "name": "stdout",
     "text": [
      "My character information: {'name': 'Assassin', 'hp': '1000', 'mp': '500', 'lever': '99'}\n"
     ]
    }
   ],
   "source": [
    "# Q2. Form a dictionary by combine each list of key and values\n",
    "\n",
    "# You can enter numbers randomly\n",
    "key_list=[\"name\",\"hp\",\"mp\",\"lever\"]\n",
    "value_list=[\"Assassin\",\"1000\",\"500\",\"99\"]\n",
    "character={} # An empty dictionary\n",
    "\n",
    "for i in range(len(key_list)):\n",
    "    character[key_list[i]]=value_list[i]\n",
    "\n",
    "print(\"My character information:\",character)\n"
   ]
  },
  {
   "cell_type": "code",
   "execution_count": 12,
   "metadata": {},
   "outputs": [
    {
     "output_type": "stream",
     "name": "stdout",
     "text": [
      "When 142 is added, it exceeds 10000 and value is 10011\n"
     ]
    }
   ],
   "source": [
    "# Q3. When it exceeds 10000, calculate the number of times to added and print value\n",
    "\n",
    "# Devlare variables \n",
    "limit=10000\n",
    "i=1\n",
    "sum_value=0 # Variable for save value\n",
    "\n",
    "while sum_value<limit:\n",
    "    sum_value+=i\n",
    "    i+=1\n",
    "\n",
    "print(\"When {} is added, it exceeds {} and value is {}\".format(i,limit,sum_value))"
   ]
  },
  {
   "cell_type": "code",
   "execution_count": 15,
   "metadata": {},
   "outputs": [
    {
     "output_type": "stream",
     "name": "stdout",
     "text": [
      "In the case of maximum value: 50*50=2500\n"
     ]
    }
   ],
   "source": [
    "# Q4. In the case ii maximum, find out which number you multiplied\n",
    "\n",
    "# Use loop\n",
    "max_value=0\n",
    "a=0\n",
    "b=0\n",
    "\n",
    "for i in range(100):\n",
    "    j=100-i\n",
    "\n",
    "    if i*j>max_value:\n",
    "        max_value=i*j\n",
    "        a=i\n",
    "        b=j\n",
    "\n",
    "print(\"In the case of maximum value: {}*{}={}\".format(a,b,max_value))\n"
   ]
  },
  {
   "cell_type": "code",
   "execution_count": null,
   "metadata": {},
   "outputs": [],
   "source": []
  }
 ]
}