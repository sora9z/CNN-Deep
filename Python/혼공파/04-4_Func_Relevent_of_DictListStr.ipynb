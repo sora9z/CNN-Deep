{
 "metadata": {
  "language_info": {
   "codemirror_mode": {
    "name": "ipython",
    "version": 3
   },
   "file_extension": ".py",
   "mimetype": "text/x-python",
   "name": "python",
   "nbconvert_exporter": "python",
   "pygments_lexer": "ipython3",
   "version": "3.7.1-final"
  },
  "orig_nbformat": 2,
  "kernelspec": {
   "name": "python3",
   "display_name": "Python 3",
   "language": "python"
  }
 },
 "nbformat": 4,
 "nbformat_minor": 2,
 "cells": [
  {
   "source": [
    "# 04-4 문자열, 리스트, 딕셔너리와 관련된 기본 함수\n",
    "- 파이썬만의 고유한 기능들\n",
    "    - 리스트에 적용 가능한 기본 함수 : max(),min(),sum()\n",
    "    - 리스트 뒤집기 : reversed()\n",
    "    - 현재 인덱스가 몇 번째인지 확인하기 : enumerate()\n",
    "    - 딕셔너리로 쉽게 반복문 작성하기 : items()\n",
    "    - 리스트 안에 for문 사용하기 : 리스트 내포"
   ],
   "cell_type": "markdown",
   "metadata": {}
  },
  {
   "source": [
    "## 1. 리스트에 적용 가능한 기본 함수 : max(),min(),sum()\n",
    "\n",
    "- 리스트를 매개변수로 넣어 사용하는 기본적인 함수\n",
    "\n",
    "|함수|설명|\n",
    "|-----|--------------------|\n",
    "|min()|리스트 내부에서 최솟값을 찾습니다.|\n",
    "|max()|리스트 내부에서 최댓값을 찾습니다.|\n",
    "|sum()|리스트 내부에서 값을 모두 더합니다.|"
   ],
   "cell_type": "markdown",
   "metadata": {}
  },
  {
   "cell_type": "code",
   "execution_count": 4,
   "metadata": {},
   "outputs": [
    {
     "output_type": "stream",
     "name": "stdout",
     "text": [
      "43\n277\n551\n"
     ]
    },
    {
     "output_type": "execute_result",
     "data": {
      "text/plain": [
       "103"
      ]
     },
     "metadata": {},
     "execution_count": 4
    }
   ],
   "source": [
    "numbers=[103,51,277,43,77]\n",
    "print(min(numbers))\n",
    "print(max(numbers))\n",
    "print(sum(numbers))\n",
    "\n",
    "\n",
    "# 아래와 같이 리스트를 사용하지않고, 숫자 여러 개를 나열해서 사용 가능.\n",
    "min(103,52,77)\n",
    "max(103,52,77)\n"
   ]
  },
  {
   "source": [
    "## 2. 리스트 뒤집기 : reversed()\n",
    "- 리스트에서 요소의 순서를 뒤집는다.\n",
    "- reversed() 함수의 결과는 generator 이다.\n",
    "- reversed() 함수와 반복문을 결합할 때는 결과를 여러 번 활용하지 않고 for 구문 내부에 reversed()함수를 곧바로 넣어서 사용함.\n",
    "- 확장 슬라이싱으로 리스트 반전 가능 (비파괴적 방법)\n",
    "    - [::-1]"
   ],
   "cell_type": "markdown",
   "metadata": {}
  },
  {
   "cell_type": "code",
   "execution_count": 11,
   "metadata": {},
   "outputs": [
    {
     "output_type": "stream",
     "name": "stdout",
     "text": [
      "# reversed() function\nreversed([1,2,3,4,5]): <list_reverseiterator object at 0x00000234A3F6D2E8>\nlist(reversed(1,2,3,4,5])): [5, 4, 3, 2, 1]\n\n# reversed() function and loop\nfor i in reversed([1,2,3,4,5]:\n- 5\n- 4\n- 3\n- 2\n- 1\n====================================================\n1st loop:6\n1st loop:5\n1st loop:4\n1st loop:3\n1st loop:2\n1st loop:1\n====================================================\n[1, 2, 3, 4, 5]\n[5, 4, 3, 2, 1]\n"
     ]
    }
   ],
   "source": [
    "# 2. reversed() Function\n",
    "# Declare and reverse a list\n",
    "list_a=[1,2,3,4,5]\n",
    "list_reversed=reversed(list_a)\n",
    "\n",
    "# print list and reversed list\n",
    "print(\"# reversed() function\")\n",
    "print(\"reversed([1,2,3,4,5]):\",list_reversed) # the result of reversed() func is a generator\n",
    "print(\"list(reversed(1,2,3,4,5])):\",list(list_reversed))\n",
    "print()\n",
    "\n",
    "# Try to apply a loop\n",
    "print(\"# reversed() function and loop\")\n",
    "print(\"for i in reversed([1,2,3,4,5]:\")\n",
    "for i in reversed(list_a):\n",
    "    print(\"-\",i)\n",
    "print(\"====================================================\")\n",
    "\n",
    "temp=reversed([1,2,3,4,5,6])\n",
    "\n",
    "for i in temp:\n",
    "    print(\"1st loop:{}\".format(i))\n",
    "for i in temp: # The second loop is not printed\n",
    "    print(\"2nd loop:{}\".format(i))\n",
    "\n",
    "print(\"====================================================\")\n",
    "\n",
    "numbers=[1,2,3,4,5]\n",
    "print(numbers)\n",
    "print(numbers[::-1])\n",
    "\n"
   ]
  },
  {
   "source": [
    "# 3. 현재 인덱스가 몇 번째인지 확인하기 : enumerate()\n",
    "- 리스트의 인덱스가 몇 번인지 확인하는 함수\n",
    "- enumerate() 함수를 사용하면 인덱스와 값을 변수로 뽑아 사용 가능."
   ],
   "cell_type": "markdown",
   "metadata": {}
  },
  {
   "cell_type": "code",
   "execution_count": 15,
   "metadata": {},
   "outputs": [
    {
     "output_type": "stream",
     "name": "stdout",
     "text": [
      "# simple print\n['element_A', 'element_B', 'element_C']\n\n# using enumerate()\n<enumerate object at 0x00000234A3CDC558>\n\n# Force it to list and print it out\n[(0, 'element_A'), (1, 'element_B'), (2, 'element_C')]\n\n# Combining for loop\n0th element is element_A\n1th element is element_B\n2th element is element_C\n"
     ]
    }
   ],
   "source": [
    "# 3. enumerate() function and list\n",
    "\n",
    "# Declare a list\n",
    "example_list=[\"element_A\",\"element_B\",\"element_C\"]\n",
    "\n",
    "# Print it out simply\n",
    "print(\"# simple print\")\n",
    "print(example_list)\n",
    "print()\n",
    "\n",
    "# Print it out by using enumerate() function\n",
    "print(\"# using enumerate()\") # The result of enumerate() is iterator \n",
    "print(enumerate(example_list))\n",
    "print()\n",
    "\n",
    "# Force it to convert to list function\n",
    "print(\"# Force it to list and print it out\")\n",
    "print(list(enumerate(example_list)))\n",
    "print()\n",
    "\n",
    "# Ussing a combination of for loop and enumerate() function \n",
    "print(\"# Combining for loop\")\n",
    "for i,value in enumerate(example_list):\n",
    "    print(\"{}th element is {}\".format(i,value))"
   ]
  },
  {
   "cell_type": "code",
   "execution_count": null,
   "metadata": {},
   "outputs": [],
   "source": []
  }
 ]
}