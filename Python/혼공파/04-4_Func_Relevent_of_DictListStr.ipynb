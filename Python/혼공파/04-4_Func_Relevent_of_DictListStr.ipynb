{
 "metadata": {
  "language_info": {
   "codemirror_mode": {
    "name": "ipython",
    "version": 3
   },
   "file_extension": ".py",
   "mimetype": "text/x-python",
   "name": "python",
   "nbconvert_exporter": "python",
   "pygments_lexer": "ipython3",
   "version": "3.7.1-final"
  },
  "orig_nbformat": 2,
  "kernelspec": {
   "name": "python3",
   "display_name": "Python 3",
   "language": "python"
  }
 },
 "nbformat": 4,
 "nbformat_minor": 2,
 "cells": [
  {
   "source": [
    "# 04-4 문자열, 리스트, 딕셔너리와 관련된 기본 함수\n",
    "- 파이썬만의 고유한 기능들\n",
    "    - 리스트에 적용 가능한 기본 함수 : max(),min(),sum()\n",
    "    - 리스트 뒤집기 : reversed()\n",
    "    - 현재 인덱스가 몇 번째인지 확인하기 : enumerate()\n",
    "    - 딕셔너리로 쉽게 반복문 작성하기 : items()\n",
    "    - 리스트 안에 for문 사용하기 : 리스트 내포"
   ],
   "cell_type": "markdown",
   "metadata": {}
  },
  {
   "source": [
    "## 1. 리스트에 적용 가능한 기본 함수 : max(),min(),sum()\n",
    "\n",
    "- 리스트를 매개변수로 넣어 사용하는 기본적인 함수\n",
    "\n",
    "|함수|설명|\n",
    "|-----|--------------------|\n",
    "|min()|리스트 내부에서 최솟값을 찾습니다.|\n",
    "|max()|리스트 내부에서 최댓값을 찾습니다.|\n",
    "|sum()|리스트 내부에서 값을 모두 더합니다.|"
   ],
   "cell_type": "markdown",
   "metadata": {}
  },
  {
   "cell_type": "code",
   "execution_count": 4,
   "metadata": {},
   "outputs": [
    {
     "output_type": "stream",
     "name": "stdout",
     "text": [
      "43\n277\n551\n"
     ]
    },
    {
     "output_type": "execute_result",
     "data": {
      "text/plain": [
       "103"
      ]
     },
     "metadata": {},
     "execution_count": 4
    }
   ],
   "source": [
    "numbers=[103,51,277,43,77]\n",
    "print(min(numbers))\n",
    "print(max(numbers))\n",
    "print(sum(numbers))\n",
    "\n",
    "\n",
    "# 아래와 같이 리스트를 사용하지않고, 숫자 여러 개를 나열해서 사용 가능.\n",
    "min(103,52,77)\n",
    "max(103,52,77)\n"
   ]
  },
  {
   "source": [
    "## 2. 리스트 뒤집기 : reversed()\n",
    "- 리스트에서 요소의 순서를 뒤집는다.\n",
    "- reversed() 함수의 결과는 generator 이다.\n",
    "- reversed() 함수와 반복문을 결합할 때는 결과를 여러 번 활용하지 않고 for 구문 내부에 reversed()함수를 곧바로 넣어서 사용함.\n",
    "- 확장 슬라이싱으로 리스트 반전 가능 (비파괴적 방법)\n",
    "    - [::-1]"
   ],
   "cell_type": "markdown",
   "metadata": {}
  },
  {
   "cell_type": "code",
   "execution_count": 11,
   "metadata": {},
   "outputs": [
    {
     "output_type": "stream",
     "name": "stdout",
     "text": [
      "# reversed() function\nreversed([1,2,3,4,5]): <list_reverseiterator object at 0x00000234A3F6D2E8>\nlist(reversed(1,2,3,4,5])): [5, 4, 3, 2, 1]\n\n# reversed() function and loop\nfor i in reversed([1,2,3,4,5]:\n- 5\n- 4\n- 3\n- 2\n- 1\n====================================================\n1st loop:6\n1st loop:5\n1st loop:4\n1st loop:3\n1st loop:2\n1st loop:1\n====================================================\n[1, 2, 3, 4, 5]\n[5, 4, 3, 2, 1]\n"
     ]
    }
   ],
   "source": [
    "# 2. reversed() Function\n",
    "# Declare and reverse a list\n",
    "list_a=[1,2,3,4,5]\n",
    "list_reversed=reversed(list_a)\n",
    "\n",
    "# print list and reversed list\n",
    "print(\"# reversed() function\")\n",
    "print(\"reversed([1,2,3,4,5]):\",list_reversed) # the result of reversed() func is a generator\n",
    "print(\"list(reversed(1,2,3,4,5])):\",list(list_reversed))\n",
    "print()\n",
    "\n",
    "# Try to apply a loop\n",
    "print(\"# reversed() function and loop\")\n",
    "print(\"for i in reversed([1,2,3,4,5]:\")\n",
    "for i in reversed(list_a):\n",
    "    print(\"-\",i)\n",
    "print(\"====================================================\")\n",
    "\n",
    "temp=reversed([1,2,3,4,5,6])\n",
    "\n",
    "for i in temp:\n",
    "    print(\"1st loop:{}\".format(i))\n",
    "for i in temp: # The second loop is not printed\n",
    "    print(\"2nd loop:{}\".format(i))\n",
    "\n",
    "print(\"====================================================\")\n",
    "\n",
    "numbers=[1,2,3,4,5]\n",
    "print(numbers)\n",
    "print(numbers[::-1])\n",
    "\n"
   ]
  },
  {
   "source": [
    "# 3. 현재 인덱스가 몇 번째인지 확인하기 : enumerate()\n",
    "- 리스트의 인덱스가 몇 번인지 확인하는 함수\n",
    "- enumerate() 함수를 사용하면 인덱스와 값을 변수로 뽑아 사용 가능."
   ],
   "cell_type": "markdown",
   "metadata": {}
  },
  {
   "cell_type": "code",
   "execution_count": 15,
   "metadata": {},
   "outputs": [
    {
     "output_type": "stream",
     "name": "stdout",
     "text": [
      "# simple print\n['element_A', 'element_B', 'element_C']\n\n# using enumerate()\n<enumerate object at 0x00000234A3CDC558>\n\n# Force it to list and print it out\n[(0, 'element_A'), (1, 'element_B'), (2, 'element_C')]\n\n# Combining for loop\n0th element is element_A\n1th element is element_B\n2th element is element_C\n"
     ]
    }
   ],
   "source": [
    "# 3. enumerate() function and list\n",
    "\n",
    "# Declare a list\n",
    "example_list=[\"element_A\",\"element_B\",\"element_C\"]\n",
    "\n",
    "# Print it out simply\n",
    "print(\"# simple print\")\n",
    "print(example_list)\n",
    "print()\n",
    "\n",
    "# Print it out by using enumerate() function\n",
    "print(\"# using enumerate()\") # The result of enumerate() is iterator \n",
    "print(enumerate(example_list))\n",
    "print()\n",
    "\n",
    "# Force it to convert to list function\n",
    "print(\"# Force it to list and print it out\")\n",
    "print(list(enumerate(example_list)))\n",
    "print()\n",
    "\n",
    "# Ussing a combination of for loop and enumerate() function \n",
    "print(\"# Combining for loop\")\n",
    "for i,value in enumerate(example_list):\n",
    "    print(\"{}th element is {}\".format(i,value))"
   ]
  },
  {
   "source": [
    "# 4. 딕셔너리로 쉽게 반복문 작성하기 : items()\n",
    "- 딕셔너리는 items() 함수와 함께 사용하여 키와 값을 조합해서 쉽게 반복문을 작성할 수 있다."
   ],
   "cell_type": "markdown",
   "metadata": {}
  },
  {
   "cell_type": "code",
   "execution_count": 16,
   "metadata": {},
   "outputs": [
    {
     "output_type": "stream",
     "name": "stdout",
     "text": [
      "# items() function of dictionary\nitems(): dict_items([('key_A', 'val_A'), ('key_B', 'val_B'), ('key_C', 'val_C')])\n\n# Combine for loop and items() function of dictionary\ndictionary[key_A]=val_A\ndictionary[key_B]=val_B\ndictionary[key_C]=val_C\n"
     ]
    }
   ],
   "source": [
    "# 4. items() funcion ans loop of the dictionary\n",
    "\n",
    "# Declare variable\n",
    "example_dict={\n",
    "    \"key_A\":\"val_A\",\n",
    "    \"key_B\":\"val_B\",\n",
    "    \"key_C\":\"val_C\"\n",
    "}\n",
    "\n",
    "# print it out the result of items() function\n",
    "print(\"# items() function of dictionary\")\n",
    "print(\"items():\",example_dict.items())\n",
    "print()\n",
    "\n",
    "# Using the combination of for loop and items() of the dictionary\n",
    "print(\"# Combine for loop and items() function of dictionary\")\n",
    "for key,element in example_dict.items():\n",
    "    print(\"dictionary[{}]={}\".format(key,element))   "
   ]
  },
  {
   "source": [
    "# 좀 더 알아보기 1\n",
    "## 구문 내부에 여러 줄 문자열을 사용했을 때의 문제점\n",
    "(1) 여러 줄 문자열 앞에 있는 들여쓰기가 문자열에 포함되어 출력이 된다.\n",
    "(2) 들여쓰기를 지우면 결과값은 제대로 나오지만, 구문이 이상해진다.\n",
    "\n",
    "## 해결 방법\n",
    "\n",
    "(1) 괄호로 문자열 연결하기\n",
    "- 괄호 내부에 문자열을 여러개 입력하면 모든 문자열을 합친 새로운 문자열이 만들어진다.\n",
    "\n",
    "(2) 문자열의 join() 함수 사용\n",
    "- 문자열.join(문자열로 구성된 리스트)\n",
    "```python\n",
    ">>> print(\"::\".join([\"1\",\"2\",\"3\",\"4\",\"5\"]))\n",
    "1::2::3::4::5\n",
    "```"
   ],
   "cell_type": "markdown",
   "metadata": {}
  },
  {
   "cell_type": "code",
   "execution_count": 24,
   "metadata": {},
   "outputs": [
    {
     "output_type": "stream",
     "name": "stdout",
     "text": [
      "        The string you entered is 6.\n        6 is an even number.\n"
     ]
    }
   ],
   "source": [
    "# if conditional sentence and multiline strings (1)\n",
    "# Unexpected indent occurs\n",
    "\n",
    "# Declare variable\n",
    "number=int(input(\"Enter an Integer>\"))\n",
    "\n",
    "# Distinguish even and odd numbers using if\n",
    "if number%2==0: \n",
    "    print(\"\"\"\\\n",
    "        The string you entered is {}.\n",
    "        {} is an even number.\"\"\".format(number,number))\n",
    "\n",
    "else: \n",
    "    print(\"\"\"\\\n",
    "        The string you entered is {}.\n",
    "        {} is an odd number.\"\"\".format(number,number))    "
   ]
  },
  {
   "cell_type": "code",
   "execution_count": 26,
   "metadata": {},
   "outputs": [
    {
     "output_type": "stream",
     "name": "stdout",
     "text": [
      "The sting you entered is 5.\n5 is an odd number\n"
     ]
    }
   ],
   "source": [
    "# if conditional sentence and multiline strings(2)\n",
    "\n",
    "#Declare variable\n",
    "number=int(input(\"Enter an Interger>\"))\n",
    "\n",
    "# Distinguish even and odd number using if\n",
    "if number%2==0:\n",
    "    print(\"\"\"The string you entered is {}.\n",
    "{} is an even number\"\"\".format(number,number))\n",
    "else:\n",
    "    print(\"\"\"The sting you entered is {}.\n",
    "{} is an odd number\"\"\".format(number,number))"
   ]
  },
  {
   "cell_type": "code",
   "execution_count": 33,
   "metadata": {},
   "outputs": [
    {
     "output_type": "stream",
     "name": "stdout",
     "text": [
      "test: Even if you type it like this, it connected by a single string and created\ntype(test): <class 'str'>\n"
     ]
    }
   ],
   "source": [
    "# 1-1. Connect strings using bracket()\n",
    "\n",
    "# Declare variable\n",
    "test=(\n",
    "    \"Even if you type it like this, \"\n",
    "    \"it connected by a single string \"\n",
    "    \"and created\"\n",
    ")\n",
    "\n",
    "# print it out\n",
    "print(\"test:\",test)\n",
    "print(\"type(test):\",type(test)) "
   ]
  },
  {
   "cell_type": "code",
   "execution_count": 34,
   "metadata": {},
   "outputs": [
    {
     "output_type": "stream",
     "name": "stdout",
     "text": [
      "The sting you enter is 4.\n4 is an even number.\n"
     ]
    }
   ],
   "source": [
    "# 1-2 Troubleshooting the combination of if sentence and multiline strings(1)-Using ()\n",
    "\n",
    "# Declare a variable\n",
    "number=int(input(\"Enter an Integer>\"))\n",
    "\n",
    "# Distinguish even and odd number using if\n",
    "if number%2==0:\n",
    "    print((\n",
    "        \"The sting you enter is {}.\\n\"\n",
    "        \"{} is an even number.\"\n",
    "    ).format(number,number))\n",
    "\n",
    "else:\n",
    "    print((\n",
    "        \"The string you enter is {}.\\n\"\n",
    "        \"{} is an odd number.\"\n",
    "    ).format(number,number))"
   ]
  },
  {
   "cell_type": "code",
   "execution_count": 36,
   "metadata": {},
   "outputs": [
    {
     "output_type": "stream",
     "name": "stdout",
     "text": [
      "The string you enter is 6.\n6 is an even number\n"
     ]
    }
   ],
   "source": [
    "# 2. Troubleshooting the combination of if sentence and multiline strings(2)-Using join()\n",
    "\n",
    "# Declare variable\n",
    "number=int(input(\"Enter an Integer>\"))\n",
    "\n",
    "# Distinguish even and odd number using if\n",
    "if number%2==0:\n",
    "    print(\"\\n\".join([\n",
    "        \"The string you enter is {}.\",\n",
    "        \"{} is an even number\"]).format(number,number))\n",
    "else:\n",
    "    print(\"\\n\".join([\n",
    "        \"The string you enter is {}.\",\n",
    "        \"{} is an odd number\"]).format(number,number))"
   ]
  },
  {
   "source": [
    "# 확인문제\n",
    "Q2. 1~100 사이에 있는 숫자 중 2진수로 변환했을 때 0이 하나만 포함된 숫자를 찾고, 그 숫자들의 합을 구하라.\n",
    "\n",
    "- 참고사항(10진수 2,8,16 진수 변환)\n",
    "    - format 함수 사용하는 방법\n",
    "\n",
    "    ```python\n",
    "    # 10진수와 2진수 변환\n",
    "    >>> \"{:b}\".foramt(10)\n",
    "    '1010'\n",
    "    >>> int(\"1010\",2)\n",
    "    10\n",
    "\n",
    "    # 10진수와 8진수 변환\n",
    "    >>> \"{:o}\".format(10)\n",
    "    '12'\n",
    "    >>> int(\"12\",8)\n",
    "    10\n",
    "\n",
    "    # 10진수와 16진수 변환\n",
    "    >>> \"{:f}\".format(10)\n",
    "    'a'\n",
    "    >>> int(\"a\",16)\n",
    "    10\n",
    "    ```\n",
    "\n",
    "    - 함수 사용\n",
    "    bin(), oct(), hex()\n",
    "    - format() 함수를 사용하는 방법이 더 유연하고 편리하다.\n",
    "    - count() 함수는 문자열을 매개변수로 받는다."
   ],
   "cell_type": "markdown",
   "metadata": {}
  },
  {
   "cell_type": "code",
   "execution_count": 41,
   "metadata": {},
   "outputs": [
    {
     "output_type": "stream",
     "name": "stdout",
     "text": [
      "[2, 5, 6, 11, 13, 14, 23, 27, 29, 30, 47, 55, 59, 61, 62, 95]\n2 : 10\n5 : 101\n6 : 110\n11 : 1011\n13 : 1101\n14 : 1110\n23 : 10111\n27 : 11011\n29 : 11101\n30 : 11110\n47 : 101111\n55 : 110111\n59 : 111011\n61 : 111101\n62 : 111110\n95 : 1011111\nSummation: 539\n"
     ]
    }
   ],
   "source": [
    "\n",
    "# If binary of i have just single 0, save it to the list\n",
    "output=[i for i in range(1,100) if \"{:b}\".format(i).count(\"0\")==1]\n",
    "print(output) # check\n",
    "\n",
    "for i in output:\n",
    "    print(\"{} : {}\".format(i,\"{:b}\".format(i)))\n",
    "print(\"Summation:\",sum(output))"
   ]
  }
 ]
}