{
 "metadata": {
  "language_info": {
   "codemirror_mode": {
    "name": "ipython",
    "version": 3
   },
   "file_extension": ".py",
   "mimetype": "text/x-python",
   "name": "python",
   "nbconvert_exporter": "python",
   "pygments_lexer": "ipython3",
   "version": "3.6.10-final"
  },
  "orig_nbformat": 2,
  "kernelspec": {
   "name": "python_defaultSpec_1599288453054",
   "display_name": "Python 3.6.10 64-bit ('TF1': conda)"
  }
 },
 "nbformat": 4,
 "nbformat_minor": 2,
 "cells": [
  {
   "cell_type": "markdown",
   "metadata": {},
   "source": [
    "# 3. Minimizing cost tf optimizer\n",
    "\n",
    "## 실습 목적 :\n",
    "- 텐서플로우에서 제공하는 Minimizing cost 함수를 사용한다.\n",
    "- 직접 구한 Minimizing cost 함수는 파이썬 코드이므로 느리다.\n",
    "- optimizer=tf.train.GradientDescentOptimizer(learning_rate=)\n",
    "- train=optimizer.minimize(cost)\n"
   ]
  },
  {
   "cell_type": "code",
   "execution_count": 2,
   "metadata": {
    "tags": []
   },
   "outputs": [
    {
     "output_type": "stream",
     "name": "stdout",
     "text": "5.0\n1.2666664\n1.0177778\n1.0011852\n1.000079\n1.0000052\n1.0000004\n1.0\n1.0\n1.0\n1.0\n1.0\n1.0\n1.0\n1.0\n1.0\n1.0\n1.0\n1.0\n1.0\n1.0\n1.0\n1.0\n1.0\n1.0\n1.0\n1.0\n1.0\n1.0\n1.0\n1.0\n1.0\n1.0\n1.0\n1.0\n1.0\n1.0\n1.0\n1.0\n1.0\n1.0\n1.0\n1.0\n1.0\n1.0\n1.0\n1.0\n1.0\n1.0\n1.0\n1.0\n1.0\n1.0\n1.0\n1.0\n1.0\n1.0\n1.0\n1.0\n1.0\n1.0\n1.0\n1.0\n1.0\n1.0\n1.0\n1.0\n1.0\n1.0\n1.0\n1.0\n1.0\n1.0\n1.0\n1.0\n1.0\n1.0\n1.0\n1.0\n1.0\n1.0\n1.0\n1.0\n1.0\n1.0\n1.0\n1.0\n1.0\n1.0\n1.0\n1.0\n1.0\n1.0\n1.0\n1.0\n1.0\n1.0\n1.0\n1.0\n1.0\n"
    }
   ],
   "source": [
    "# Lab 3-3 Minimizing cost tf optimizer\n",
    "import tensorflow as tf\n",
    "tf.set_random_seed(00)\n",
    "\n",
    "# tf.Graph input\n",
    "X=[1,2,3]\n",
    "Y=[1,2,3]\n",
    "\n",
    "# Set wrong model weights\n",
    "W=tf.Variable(5.0)\n",
    "\n",
    "# Linear model\n",
    "hypothesis=X*W\n",
    "\n",
    "# cost function\n",
    "cost=tf.reduce_mean(tf.square(hypothesis-Y))\n",
    "\n",
    "# Minimize : Gradient Descent\n",
    "optimizer=tf.train.GradientDescentOptimizer(learning_rate=0.1)\n",
    "train=optimizer.minimize(cost)\n",
    "\n",
    "# Launch the Graph in a session\n",
    "sess=tf.Session()\n",
    "\n",
    "# Initialize variables\n",
    "sess.run(tf.global_variables_initializer())\n",
    "\n",
    "for step in range(100):\n",
    "    print(sess.run(W))\n",
    "    sess.run(train)"
   ]
  }
 ]
}