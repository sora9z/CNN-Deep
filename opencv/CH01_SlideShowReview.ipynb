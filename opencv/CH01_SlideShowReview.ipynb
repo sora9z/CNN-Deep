{
 "metadata": {
  "language_info": {
   "codemirror_mode": {
    "name": "ipython",
    "version": 3
   },
   "file_extension": ".py",
   "mimetype": "text/x-python",
   "name": "python",
   "nbconvert_exporter": "python",
   "pygments_lexer": "ipython3",
   "version": "3.6.10-final"
  },
  "orig_nbformat": 2,
  "kernelspec": {
   "name": "python_defaultSpec_1599485182463",
   "display_name": "Python 3.6.10 64-bit ('TF2': conda)"
  }
 },
 "nbformat": 4,
 "nbformat_minor": 2,
 "cells": [
  {
   "cell_type": "code",
   "execution_count": null,
   "metadata": {
    "tags": []
   },
   "outputs": [],
   "source": [
    "## slideshow review\n",
    "## cv2.WINDOW_NORMAL 속성의 창을 만흔 수 \n",
    "## cv2.setWindowProperty() 함수를 사ㅛㅇ하여 전체화면 속성으로 변경한다.abs\n",
    "## cv2.WindowProperty('image',cv2.WND_PROP_FULLSCREEN,cv2.WINDOW_FULLSCREEN)\n",
    "## WND_PROP_FULLSCREEN : ullscreen property (can be WINDOW_NORMAL or WINDOW_FULLSCREEN).\n",
    "\n",
    "import sys\n",
    "import cv2\n",
    "import glob\n",
    "import os\n",
    "\n",
    "#img_files=glob.glob('.//images//dogs//*.jpg')\n",
    "file_list=os.listdir('D:/Sora/OpenCV/01_OpenCV_start/images/cats')\n",
    "#print(file_list)\n",
    "img_files=[file for file in file_list if file.endswith('.jpg')]\n",
    "\n",
    "# Make sure the loded files are OK\n",
    "for f in img_files:\n",
    "    print(f)\n",
    "\n",
    "cv2.namedWindow('image',cv2.WINDOW_NORMAL)\n",
    "cv2.setWindowProperty('image',cv2.WND_PROP_FULLSCREEN,cv2.WINDOW_FULLSCREEN)\n",
    "cnt=len(img_files)\n",
    "idx=0\n",
    "\n",
    "while True:\n",
    "    img=cv2.imread(img_files[idx])\n",
    "\n",
    "    if img in None:\n",
    "        print(\"img load failed\")\n",
    "        break\n",
    "\n",
    "    if cv2.waitKey(1000)==27:\n",
    "        break\n",
    "    idx+=1\n",
    "\n",
    "    if idx>cnt:\n",
    "        idx=0\n",
    "\n",
    "\n",
    "\n",
    "\n"
   ]
  },
  {
   "cell_type": "code",
   "execution_count": null,
   "metadata": {},
   "outputs": [],
   "source": []
  }
 ]
}