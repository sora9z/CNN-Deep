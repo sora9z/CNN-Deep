{
 "metadata": {
  "language_info": {
   "codemirror_mode": {
    "name": "ipython",
    "version": 3
   },
   "file_extension": ".py",
   "mimetype": "text/x-python",
   "name": "python",
   "nbconvert_exporter": "python",
   "pygments_lexer": "ipython3",
   "version": "3.6.10-final"
  },
  "orig_nbformat": 2,
  "kernelspec": {
   "name": "python_defaultSpec_1601692577863",
   "display_name": "Python 3.6.10 64-bit ('TF2': conda)",
   "metadata": {
    "interpreter": {
     "hash": "0852b15a40ba772cc6cccde9ee3e0692fec73481972f7fa88d7df0aedb40ab85"
    }
   }
  }
 },
 "nbformat": 4,
 "nbformat_minor": 2,
 "cells": [
  {
   "source": [
    "# ch2_02 opencv python 영상의 생성,복사,부분 영상 추출\n",
    "    (1) 지정한 크기로 새 영상 생성하기.\n",
    "        - np.empty(shape,dtype=float,....) --> arr : 셍성된 영상(np.ndarray)\n",
    "        - np.zeros(shape,dtype=float,....) --> arr\n",
    "        - np.ones(shape,dtype=None,.....) --> arr\n",
    "        - np.full(shape,fill_value,dtype=None,......)--> arr\n",
    "    \n",
    "            - dtype의 경우,default는 float 임.  일반적인 영상이면 np.uint8을 지정해 주어야 한다.\n",
    "            - np.full 의 인자인 fill_value는 설정한 값으로 초기화함.\n",
    "            - np.ones(~~~) *255 연산을 하면, 1에 255가 곱해진다."
   ],
   "cell_type": "markdown",
   "metadata": {}
  },
  {
   "cell_type": "code",
   "execution_count": 4,
   "metadata": {},
   "outputs": [],
   "source": [
    "# 영상 생성\n",
    "import cv2\n",
    "import numpy as np\n",
    "\n",
    "img1=np.empty((240,320),dtype=np.uint8) #grayscale image\n",
    "img2=np.zeros((240,320,3),dtype=np.uint8) # color image\n",
    "img3=np.ones((240,320),dtype=np.uint8)*150 # dark gray\n",
    "img4=np.full((240,320,3),(0,255,255),dtype=np.uint8) #Yellow\n",
    "\n",
    "cv2.imshow(\"IMG1\",img1)\n",
    "cv2.imshow(\"IMG2\",img2)\n",
    "cv2.imshow(\"IMG3\",img3)\n",
    "cv2.imshow(\"IMG4\",img4)\n",
    "\n",
    "cv2.waitKey()\n",
    "cv2.destroyAllWindows()\n"
   ]
  },
  {
   "cell_type": "code",
   "execution_count": 15,
   "metadata": {},
   "outputs": [],
   "source": [
    "# 영상 복사\n",
    "img1=cv2.imread(\"../00_data/HappyFish.jpg\")\n",
    "img2=img1 #img1의 pixel 자체를 참조하는 것임. img1이 변경되면 같이 변함. 반대도 가능.and\n",
    "img3=img1.copy() # 메모리를 새로 할당하여 해로 저장함. pixel 등 다 복사됨.and\n",
    "if img1 is None:\n",
    "    print(\"image load failed\")\n",
    "    exit\n",
    "img1.fill(255) # --> img1을 흰색으로 채운다. img1을 참조하는 img3도 변하지만 , img1을 그대로 copy한 img3는 영향 받지 않는다.\n",
    "cv2.imshow(\"img1\",img1)\n",
    "cv2.imshow(\"img2\",img2)\n",
    "cv2.imshow(\"img3\",img3)\n",
    "\n",
    "cv2.waitKey()\n",
    "cv2.destroyAllWindows()\n",
    "\n",
    "\n",
    "\n"
   ]
  },
  {
   "source": [
    "## 영상의 특정 부분의 추출\n",
    "    - 영상의 특정 ROI를 지정해서 처리를 할 수도 있다.\n",
    "    - circle(img2,(50,50),20,(0,0,255),2)\n",
    "    - img, 기준 중심, 반지름, 원의 생, 원으 두께\n",
    "    - original 영상에도 원이 그려진다."
   ],
   "cell_type": "markdown",
   "metadata": {}
  },
  {
   "cell_type": "code",
   "execution_count": 22,
   "metadata": {},
   "outputs": [],
   "source": [
    "# 영상 추출\n",
    "img1=cv2.imread(\"../00_data/HappyFish.jpg\")\n",
    "img2=img1[40:120,30:150] # np.ndarray의 슬라이싱 --> 참조를 하는 것 이므로 img1이 변하면 변경된다.\n",
    "img3=img1[40:120,30:150].copy()\n",
    "\n",
    "img2.fill(0) # fill all pixel value 0 (=black) --> img1또한 이 부분이 검정색으로 채워진다.\n",
    "\n",
    "cv2.imshow('img1',img1)\n",
    "cv2.imshow('img2',img2)\n",
    "cv2.imshow('img3',img3)\n",
    "cv2.waitKey()\n",
    "cv2.destroyAllWindows()\n"
   ]
  },
  {
   "cell_type": "code",
   "execution_count": 24,
   "metadata": {},
   "outputs": [],
   "source": [
    "cv2.circle(img2,(50,50),20,(0,0,255),2)\n",
    "\n",
    "cv2.imshow('img2',img2)\n",
    "cv2.imshow('img1',img1)\n",
    "cv2.waitKey()\n",
    "cv2.destroyAllWindows()\n"
   ]
  }
 ]
}