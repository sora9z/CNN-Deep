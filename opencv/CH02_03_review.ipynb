{
 "metadata": {
  "language_info": {
   "codemirror_mode": {
    "name": "ipython",
    "version": 3
   },
   "file_extension": ".py",
   "mimetype": "text/x-python",
   "name": "python",
   "nbconvert_exporter": "python",
   "pygments_lexer": "ipython3",
   "version": "3.6.10-final"
  },
  "orig_nbformat": 2,
  "kernelspec": {
   "name": "Python 3.6.10 64-bit ('TF2': conda)",
   "display_name": "Python 3.6.10 64-bit ('TF2': conda)",
   "metadata": {
    "interpreter": {
     "hash": "82029324b7794d44b9b34a5b0c3b4b27ccbecf11ca42c54b00821b74d204b68a"
    }
   }
  }
 },
 "nbformat": 4,
 "nbformat_minor": 2,
 "cells": [
  {
   "source": [
    "- Copy 방법 1) 마스크 연산을 복사하는 함수 : cv2.copy(sct,mask,dse=None) -> dst\n",
    "- Copy 방법 2) numpy Boolean Indexing 을 사용한 마스크 연산\n"
   ],
   "cell_type": "markdown",
   "metadata": {}
  },
  {
   "cell_type": "code",
   "execution_count": 24,
   "metadata": {},
   "outputs": [],
   "source": [
    "# 1. cv2.copy(scr,mask,dst) 사용 \n",
    "\n",
    "import cv2\n",
    "import sys\n",
    "\n",
    "src=cv2.imread('../00_data/airplane.bmp',cv2.IMREAD_COLOR)\n",
    "mask=cv2.imread('../00_data/mask_plane.bmp',cv2.IMREAD_GRAYSCALE)\n",
    "dst=cv2.imread('../00_data/field.bmp',cv2.IMREAD_COLOR)\n",
    "\n",
    "if src is None or mask is None or dst is None:\n",
    "    print(\"image load failed\")\n",
    "    sys.exit()\n",
    "\n",
    "#cv2.copyTo(src,mask,dst) --> 이상하게 안됨 module 'cv2' has no attribute 'copyTo'\n",
    "dst[mask>0]=src[mask>0]\n",
    "\n",
    "cv2.imshow('src',src)\n",
    "cv2.imshow('mask',mask)\n",
    "cv2.imshow('dst',dst)\n",
    "cv2.waitKey()\n",
    "cv2.destroyAllWindows()\n"
   ]
  },
  {
   "cell_type": "code",
   "execution_count": 27,
   "metadata": {},
   "outputs": [
    {
     "output_type": "stream",
     "name": "stdout",
     "text": [
      "(480, 640, 3)\n(222, 180, 4)\n222 180\n"
     ]
    }
   ],
   "source": [
    "# 알파 channel을 마스크 영상으로 이용\n",
    "src=cv2.imread('../00_data/cat.bmp',cv2.IMREAD_COLOR)\n",
    "logo=cv2.imread('../00_data/opencv-logo-white.png',cv2.IMREAD_UNCHANGED)\n",
    "\n",
    "if src is None or logo is None:\n",
    "    print(\"image load failed\")\n",
    "    sys.exit()\n",
    "print(src.shape)\n",
    "print(logo.shape)\n",
    "\n",
    "h,w=logo.shape[:2]\n",
    "print(h,w)\n",
    "\n",
    "mask=logo[:,:,3] # mask이미지는 알파 채널로 만든 마스크 영상\n",
    "logo=logo[:,:,:-1] #logo 는 b,g,r로 구성된 컬러 영상\n",
    "crop=src[10:10+h,10:10+w] # logo,mask와 같은 크기의 부분 영상 추출 . 참조를 하는 것 이므로 src도 같이 변한다.\n",
    "\n",
    "crop[mask>0]=logo[mask>0]\n",
    "\n",
    "cv2.imshow('mask',mask)\n",
    "cv2.imshow('src',src)\n",
    "cv2.imshow('logo',logo)\n",
    "\n",
    "cv2.waitKey()\n",
    "cv2.destroyAllWindows()\n",
    "\n"
   ]
  },
  {
   "cell_type": "code",
   "execution_count": null,
   "metadata": {},
   "outputs": [],
   "source": []
  }
 ]
}