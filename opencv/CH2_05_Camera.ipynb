{
 "metadata": {
  "language_info": {
   "codemirror_mode": {
    "name": "ipython",
    "version": 3
   },
   "file_extension": ".py",
   "mimetype": "text/x-python",
   "name": "python",
   "nbconvert_exporter": "python",
   "pygments_lexer": "ipython3",
   "version": "3.6.10-final"
  },
  "orig_nbformat": 2,
  "kernelspec": {
   "name": "Python 3.6.10 64-bit ('TF2': conda)",
   "display_name": "Python 3.6.10 64-bit ('TF2': conda)",
   "metadata": {
    "interpreter": {
     "hash": "82029324b7794d44b9b34a5b0c3b4b27ccbecf11ca42c54b00821b74d204b68a"
    }
   }
  }
 },
 "nbformat": 4,
 "nbformat_minor": 2,
 "cells": [
  {
   "cell_type": "code",
   "execution_count": 4,
   "metadata": {},
   "outputs": [
    {
     "output_type": "stream",
     "name": "stdout",
     "text": [
      "camera open failed!\n"
     ]
    },
    {
     "output_type": "error",
     "ename": "SystemExit",
     "evalue": "",
     "traceback": [
      "An exception has occurred, use %tb to see the full traceback.\n",
      "\u001b[1;31mSystemExit\u001b[0m\n"
     ]
    }
   ],
   "source": [
    "import cv2\n",
    "import sys\n",
    "\n",
    "# 1. 비어있는 클래스 생성\n",
    "cap=cv2.VideoCapture() # cap을 return 해줌.and\n",
    "\n",
    "cap.open(0) # 기본 카메라로 오픈\n",
    "\n",
    "# 2. Check the camera is opned\n",
    "if not cap.isOpened():\n",
    "    print('camera open failed!')\n",
    "    sys.exit()\n",
    "\n",
    "# 3. while loof를 사용하여 카메라로부터 한 프레임씩 작업을 받아옴.\n",
    "while True:\n",
    "    # ret,frame 순서 기억.\n",
    "    ret,frame=cap.read() # 현재 frame을 제대로 받아왔는지 확인하는 bool type의 변수값을 같이 리턴함. \n",
    "                         # frame=cap.read() ; True or False로 반환한다.sys\n",
    "    if not ret: # 정상적으로 받아왔는지 확인\n",
    "        break\n",
    "\n",
    "    cv2.imshow('frame',frame)\n",
    "    if cv2.waitKey(20)==27: # 20ms 대기 , 27= ESC \n",
    "        break\n",
    "\n",
    "cap.release()\n",
    "cv2.destroyAllWindows()\n",
    "\n",
    "            \n",
    "\n"
   ]
  },
  {
   "cell_type": "code",
   "execution_count": null,
   "metadata": {},
   "outputs": [],
   "source": [
    "import cv2\n",
    "import sys\n",
    "\n",
    "# 1. 비어있는 클래스 생성\n",
    "cap=cv2.VideoCapture(0) # 생성자에 0을 넣어주면, open 함수를 쓰지 않아도, 0번 camera로 오픈.and\n",
    "\n",
    "#cap=cv2.VideoCapture() # cap을 return 해줌.and\n",
    "#cap.open(0) # 기본 카메라로 오픈\n",
    "\n",
    "# 2. Check the camera is opned\n",
    "if not cap.isOpened():\n",
    "    print('camera open failed!')\n",
    "    sys.exit()\n",
    "\n",
    "# 3. while loof를 사용하여 카메라로부터 한 프레임씩 작업을 받아옴.\n",
    "while True:\n",
    "    # ret,frame 순서 기억.\n",
    "    ret,frame=cap.read() # 현재 frame을 제대로 받아왔는지 확인하는 bool type의 변수값을 같이 리턴함. \n",
    "                         # frame=cap.read() ; True or False로 반환한다.sys\n",
    "    if not ret: # 정상적으로 받아왔는지 확인\n",
    "        break\n",
    "\n",
    "    cv2.imshow('frame',frame)\n",
    "    if cv2.waitKey(20)==27: # 20ms 대기 , 27= ESC \n",
    "        break\n",
    "\n",
    "cap.release()\n",
    "cv2.destroyAllWindows()\n",
    "\n",
    "            "
   ]
  }
 ]
}